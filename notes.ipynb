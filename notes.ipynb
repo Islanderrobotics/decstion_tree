{
 "cells": [
  {
   "cell_type": "code",
   "execution_count": 18,
   "metadata": {
    "collapsed": true
   },
   "outputs": [],
   "source": [
    "import pandas as pd\n",
    "import numpy as np\n",
    "import islanders as ir\n",
    "import irdatacleaning\n",
    "data = ir.datasets(\"amazon electronics\")"
   ]
  },
  {
   "cell_type": "code",
   "execution_count": 14,
   "outputs": [],
   "source": [
    "def test(*array):\n",
    "    print(array[1])"
   ],
   "metadata": {
    "collapsed": false,
    "pycharm": {
     "name": "#%%\n"
    }
   }
  },
  {
   "cell_type": "code",
   "execution_count": 15,
   "outputs": [
    {
     "data": {
      "text/plain": "Index(['rankings', 'name', 'stars', 'number_of_ratings', 'price',\n       'price range'],\n      dtype='object')"
     },
     "execution_count": 15,
     "metadata": {},
     "output_type": "execute_result"
    }
   ],
   "source": [
    "data.columns"
   ],
   "metadata": {
    "collapsed": false,
    "pycharm": {
     "name": "#%%\n"
    }
   }
  },
  {
   "cell_type": "code",
   "execution_count": 16,
   "outputs": [],
   "source": [
    "name = [i for i in data.name]\n",
    "data.drop(columns = \"name\", inplace=True)"
   ],
   "metadata": {
    "collapsed": false,
    "pycharm": {
     "name": "#%%\n"
    }
   }
  },
  {
   "cell_type": "code",
   "execution_count": 19,
   "outputs": [
    {
     "ename": "ValueError",
     "evalue": "PandasArray must be 1-dimensional.",
     "output_type": "error",
     "traceback": [
      "\u001B[0;31m---------------------------------------------------------------------------\u001B[0m",
      "\u001B[0;31mValueError\u001B[0m                                Traceback (most recent call last)",
      "\u001B[0;32m<ipython-input-19-ed70ddeb8065>\u001B[0m in \u001B[0;36m<module>\u001B[0;34m\u001B[0m\n\u001B[1;32m      1\u001B[0m \u001B[0mencoder\u001B[0m \u001B[0;34m=\u001B[0m \u001B[0mirdatacleaning\u001B[0m\u001B[0;34m.\u001B[0m\u001B[0mEncoder\u001B[0m\u001B[0;34m(\u001B[0m\u001B[0mdf\u001B[0m \u001B[0;34m=\u001B[0m \u001B[0mdata\u001B[0m\u001B[0;34m,\u001B[0m \u001B[0mtype\u001B[0m\u001B[0;34m=\u001B[0m\u001B[0;34m\"ordinalencoder\"\u001B[0m\u001B[0;34m,\u001B[0m \u001B[0mcolumns\u001B[0m\u001B[0;34m=\u001B[0m\u001B[0;34m[\u001B[0m\u001B[0;34m\"price range\"\u001B[0m\u001B[0;34m]\u001B[0m\u001B[0;34m)\u001B[0m\u001B[0;34m\u001B[0m\u001B[0;34m\u001B[0m\u001B[0m\n\u001B[0;32m----> 2\u001B[0;31m \u001B[0mdata\u001B[0m \u001B[0;34m=\u001B[0m \u001B[0mencoder\u001B[0m\u001B[0;34m.\u001B[0m\u001B[0mcheck\u001B[0m\u001B[0;34m(\u001B[0m\u001B[0;34m)\u001B[0m\u001B[0;34m\u001B[0m\u001B[0;34m\u001B[0m\u001B[0m\n\u001B[0m",
      "\u001B[0;32m~/anaconda3/lib/python3.8/site-packages/irdatacleaning/encoder2.py\u001B[0m in \u001B[0;36mcheck\u001B[0;34m(self)\u001B[0m\n\u001B[1;32m     32\u001B[0m         \u001B[0;32melse\u001B[0m\u001B[0;34m:\u001B[0m\u001B[0;34m\u001B[0m\u001B[0;34m\u001B[0m\u001B[0m\n\u001B[1;32m     33\u001B[0m             \u001B[0mself\u001B[0m\u001B[0;34m.\u001B[0m\u001B[0mobject_column\u001B[0m \u001B[0;34m=\u001B[0m \u001B[0;34m[\u001B[0m\u001B[0mi\u001B[0m \u001B[0;32mfor\u001B[0m \u001B[0mi\u001B[0m \u001B[0;32min\u001B[0m \u001B[0mself\u001B[0m\u001B[0;34m.\u001B[0m\u001B[0mcolumns\u001B[0m\u001B[0;34m]\u001B[0m\u001B[0;34m\u001B[0m\u001B[0;34m\u001B[0m\u001B[0m\n\u001B[0;32m---> 34\u001B[0;31m         \u001B[0mself\u001B[0m\u001B[0;34m.\u001B[0m\u001B[0mCorrect\u001B[0m\u001B[0;34m(\u001B[0m\u001B[0;34m)\u001B[0m\u001B[0;34m\u001B[0m\u001B[0;34m\u001B[0m\u001B[0m\n\u001B[0m\u001B[1;32m     35\u001B[0m         \u001B[0;32mreturn\u001B[0m \u001B[0mself\u001B[0m\u001B[0;34m.\u001B[0m\u001B[0mdf\u001B[0m\u001B[0;34m\u001B[0m\u001B[0;34m\u001B[0m\u001B[0m\n\u001B[1;32m     36\u001B[0m     \u001B[0;32mdef\u001B[0m \u001B[0mCorrect\u001B[0m\u001B[0;34m(\u001B[0m\u001B[0mself\u001B[0m\u001B[0;34m)\u001B[0m\u001B[0;34m:\u001B[0m\u001B[0;34m\u001B[0m\u001B[0;34m\u001B[0m\u001B[0m\n",
      "\u001B[0;32m~/anaconda3/lib/python3.8/site-packages/irdatacleaning/encoder2.py\u001B[0m in \u001B[0;36mCorrect\u001B[0;34m(self)\u001B[0m\n\u001B[1;32m     38\u001B[0m             \u001B[0mself\u001B[0m\u001B[0;34m.\u001B[0m\u001B[0mOneHotEncoder\u001B[0m\u001B[0;34m(\u001B[0m\u001B[0;34m)\u001B[0m\u001B[0;34m\u001B[0m\u001B[0;34m\u001B[0m\u001B[0m\n\u001B[1;32m     39\u001B[0m         \u001B[0;32melif\u001B[0m \u001B[0;34m(\u001B[0m\u001B[0mself\u001B[0m\u001B[0;34m.\u001B[0m\u001B[0mtype\u001B[0m\u001B[0;34m.\u001B[0m\u001B[0mupper\u001B[0m\u001B[0;34m(\u001B[0m\u001B[0;34m)\u001B[0m \u001B[0;34m==\u001B[0m \u001B[0;34m\"ORDINALENCODER\"\u001B[0m\u001B[0;34m)\u001B[0m\u001B[0;34m:\u001B[0m\u001B[0;34m\u001B[0m\u001B[0;34m\u001B[0m\u001B[0m\n\u001B[0;32m---> 40\u001B[0;31m             \u001B[0mself\u001B[0m\u001B[0;34m.\u001B[0m\u001B[0mOrdinalEncoder\u001B[0m\u001B[0;34m(\u001B[0m\u001B[0;34m)\u001B[0m\u001B[0;34m\u001B[0m\u001B[0;34m\u001B[0m\u001B[0m\n\u001B[0m\u001B[1;32m     41\u001B[0m     \u001B[0;32mdef\u001B[0m \u001B[0mOrdinalEncoder\u001B[0m\u001B[0;34m(\u001B[0m\u001B[0mself\u001B[0m\u001B[0;34m)\u001B[0m\u001B[0;34m:\u001B[0m\u001B[0;34m\u001B[0m\u001B[0;34m\u001B[0m\u001B[0m\n\u001B[1;32m     42\u001B[0m         \u001B[0;32mfor\u001B[0m \u001B[0mi\u001B[0m \u001B[0;32min\u001B[0m \u001B[0mself\u001B[0m\u001B[0;34m.\u001B[0m\u001B[0mobject_column\u001B[0m\u001B[0;34m:\u001B[0m\u001B[0;34m\u001B[0m\u001B[0;34m\u001B[0m\u001B[0m\n",
      "\u001B[0;32m~/anaconda3/lib/python3.8/site-packages/irdatacleaning/encoder2.py\u001B[0m in \u001B[0;36mOrdinalEncoder\u001B[0;34m(self)\u001B[0m\n\u001B[1;32m     42\u001B[0m         \u001B[0;32mfor\u001B[0m \u001B[0mi\u001B[0m \u001B[0;32min\u001B[0m \u001B[0mself\u001B[0m\u001B[0;34m.\u001B[0m\u001B[0mobject_column\u001B[0m\u001B[0;34m:\u001B[0m\u001B[0;34m\u001B[0m\u001B[0;34m\u001B[0m\u001B[0m\n\u001B[1;32m     43\u001B[0m             \u001B[0mtranslate\u001B[0m \u001B[0;34m=\u001B[0m \u001B[0mOrdinalEncoder\u001B[0m\u001B[0;34m(\u001B[0m\u001B[0;34m)\u001B[0m\u001B[0;34m\u001B[0m\u001B[0;34m\u001B[0m\u001B[0m\n\u001B[0;32m---> 44\u001B[0;31m             \u001B[0mfinal\u001B[0m \u001B[0;34m=\u001B[0m \u001B[0mtranslate\u001B[0m\u001B[0;34m.\u001B[0m\u001B[0mfit_transform\u001B[0m\u001B[0;34m(\u001B[0m\u001B[0mself\u001B[0m\u001B[0;34m.\u001B[0m\u001B[0mdf\u001B[0m\u001B[0;34m[\u001B[0m\u001B[0mi\u001B[0m\u001B[0;34m]\u001B[0m\u001B[0;34m.\u001B[0m\u001B[0marray\u001B[0m\u001B[0;34m.\u001B[0m\u001B[0mreshape\u001B[0m\u001B[0;34m(\u001B[0m\u001B[0;34m-\u001B[0m\u001B[0;36m1\u001B[0m\u001B[0;34m,\u001B[0m \u001B[0;36m1\u001B[0m\u001B[0;34m)\u001B[0m\u001B[0;34m)\u001B[0m\u001B[0;34m\u001B[0m\u001B[0;34m\u001B[0m\u001B[0m\n\u001B[0m\u001B[1;32m     45\u001B[0m             \u001B[0mself\u001B[0m\u001B[0;34m.\u001B[0m\u001B[0mdf\u001B[0m\u001B[0;34m.\u001B[0m\u001B[0mdrop\u001B[0m\u001B[0;34m(\u001B[0m\u001B[0mcolumns\u001B[0m\u001B[0;34m=\u001B[0m\u001B[0mi\u001B[0m\u001B[0;34m,\u001B[0m \u001B[0minplace\u001B[0m\u001B[0;34m=\u001B[0m\u001B[0;32mTrue\u001B[0m\u001B[0;34m)\u001B[0m\u001B[0;34m\u001B[0m\u001B[0;34m\u001B[0m\u001B[0m\n\u001B[1;32m     46\u001B[0m             \u001B[0mself\u001B[0m\u001B[0;34m.\u001B[0m\u001B[0mdf\u001B[0m\u001B[0;34m[\u001B[0m\u001B[0mi\u001B[0m\u001B[0;34m]\u001B[0m \u001B[0;34m=\u001B[0m \u001B[0mfinal\u001B[0m\u001B[0;34m\u001B[0m\u001B[0;34m\u001B[0m\u001B[0m\n",
      "\u001B[0;32m~/anaconda3/lib/python3.8/site-packages/pandas/core/arrays/_mixins.py\u001B[0m in \u001B[0;36mreshape\u001B[0;34m(self, *args, **kwargs)\u001B[0m\n\u001B[1;32m    124\u001B[0m     ) -> NDArrayBackedExtensionArrayT:\n\u001B[1;32m    125\u001B[0m         \u001B[0mnew_data\u001B[0m \u001B[0;34m=\u001B[0m \u001B[0mself\u001B[0m\u001B[0;34m.\u001B[0m\u001B[0m_ndarray\u001B[0m\u001B[0;34m.\u001B[0m\u001B[0mreshape\u001B[0m\u001B[0;34m(\u001B[0m\u001B[0;34m*\u001B[0m\u001B[0margs\u001B[0m\u001B[0;34m,\u001B[0m \u001B[0;34m**\u001B[0m\u001B[0mkwargs\u001B[0m\u001B[0;34m)\u001B[0m\u001B[0;34m\u001B[0m\u001B[0;34m\u001B[0m\u001B[0m\n\u001B[0;32m--> 126\u001B[0;31m         \u001B[0;32mreturn\u001B[0m \u001B[0mself\u001B[0m\u001B[0;34m.\u001B[0m\u001B[0m_from_backing_data\u001B[0m\u001B[0;34m(\u001B[0m\u001B[0mnew_data\u001B[0m\u001B[0;34m)\u001B[0m\u001B[0;34m\u001B[0m\u001B[0;34m\u001B[0m\u001B[0m\n\u001B[0m\u001B[1;32m    127\u001B[0m \u001B[0;34m\u001B[0m\u001B[0m\n\u001B[1;32m    128\u001B[0m     def ravel(\n",
      "\u001B[0;32m~/anaconda3/lib/python3.8/site-packages/pandas/core/arrays/numpy_.py\u001B[0m in \u001B[0;36m_from_backing_data\u001B[0;34m(self, arr)\u001B[0m\n\u001B[1;32m    188\u001B[0m \u001B[0;34m\u001B[0m\u001B[0m\n\u001B[1;32m    189\u001B[0m     \u001B[0;32mdef\u001B[0m \u001B[0m_from_backing_data\u001B[0m\u001B[0;34m(\u001B[0m\u001B[0mself\u001B[0m\u001B[0;34m,\u001B[0m \u001B[0marr\u001B[0m\u001B[0;34m:\u001B[0m \u001B[0mnp\u001B[0m\u001B[0;34m.\u001B[0m\u001B[0mndarray\u001B[0m\u001B[0;34m)\u001B[0m \u001B[0;34m->\u001B[0m \u001B[0;34m\"PandasArray\"\u001B[0m\u001B[0;34m:\u001B[0m\u001B[0;34m\u001B[0m\u001B[0;34m\u001B[0m\u001B[0m\n\u001B[0;32m--> 190\u001B[0;31m         \u001B[0;32mreturn\u001B[0m \u001B[0mtype\u001B[0m\u001B[0;34m(\u001B[0m\u001B[0mself\u001B[0m\u001B[0;34m)\u001B[0m\u001B[0;34m(\u001B[0m\u001B[0marr\u001B[0m\u001B[0;34m)\u001B[0m\u001B[0;34m\u001B[0m\u001B[0;34m\u001B[0m\u001B[0m\n\u001B[0m\u001B[1;32m    191\u001B[0m \u001B[0;34m\u001B[0m\u001B[0m\n\u001B[1;32m    192\u001B[0m     \u001B[0;31m# ------------------------------------------------------------------------\u001B[0m\u001B[0;34m\u001B[0m\u001B[0;34m\u001B[0m\u001B[0;34m\u001B[0m\u001B[0m\n",
      "\u001B[0;32m~/anaconda3/lib/python3.8/site-packages/pandas/core/arrays/numpy_.py\u001B[0m in \u001B[0;36m__init__\u001B[0;34m(self, values, copy)\u001B[0m\n\u001B[1;32m    163\u001B[0m \u001B[0;34m\u001B[0m\u001B[0m\n\u001B[1;32m    164\u001B[0m         \u001B[0;32mif\u001B[0m \u001B[0mvalues\u001B[0m\u001B[0;34m.\u001B[0m\u001B[0mndim\u001B[0m \u001B[0;34m!=\u001B[0m \u001B[0;36m1\u001B[0m\u001B[0;34m:\u001B[0m\u001B[0;34m\u001B[0m\u001B[0;34m\u001B[0m\u001B[0m\n\u001B[0;32m--> 165\u001B[0;31m             \u001B[0;32mraise\u001B[0m \u001B[0mValueError\u001B[0m\u001B[0;34m(\u001B[0m\u001B[0;34m\"PandasArray must be 1-dimensional.\"\u001B[0m\u001B[0;34m)\u001B[0m\u001B[0;34m\u001B[0m\u001B[0;34m\u001B[0m\u001B[0m\n\u001B[0m\u001B[1;32m    166\u001B[0m \u001B[0;34m\u001B[0m\u001B[0m\n\u001B[1;32m    167\u001B[0m         \u001B[0;32mif\u001B[0m \u001B[0mcopy\u001B[0m\u001B[0;34m:\u001B[0m\u001B[0;34m\u001B[0m\u001B[0;34m\u001B[0m\u001B[0m\n",
      "\u001B[0;31mValueError\u001B[0m: PandasArray must be 1-dimensional."
     ]
    }
   ],
   "source": [
    "encoder = irdatacleaning.Encoder(df = data, type=\"ordinalencoder\", columns=[\"price range\"])\n",
    "data = encoder.check()"
   ],
   "metadata": {
    "collapsed": false,
    "pycharm": {
     "name": "#%%\n"
    }
   }
  },
  {
   "cell_type": "code",
   "execution_count": 5,
   "outputs": [],
   "source": [
    "data_x = np.array(data.iloc[:,:-1].values)"
   ],
   "metadata": {
    "collapsed": false,
    "pycharm": {
     "name": "#%%\n"
    }
   }
  },
  {
   "cell_type": "code",
   "execution_count": 6,
   "outputs": [],
   "source": [
    "data_y = np.array(data.iloc[:,-1].values)"
   ],
   "metadata": {
    "collapsed": false,
    "pycharm": {
     "name": "#%%\n"
    }
   }
  },
  {
   "cell_type": "code",
   "execution_count": 7,
   "outputs": [
    {
     "data": {
      "text/plain": "array(['under 25', 'under 25', 'under 25', '$25 to $50', 'under 25',\n       '$25 to $50', '$50 to $100', '$25 to $50', 'under 25', 'under 25',\n       'under 25', '$25 to $50', '$200 and above', '$50 to $100',\n       '$50 to $100', '$25 to $50', '$50 to $100', '$25 to $50',\n       '$25 to $50', 'under 25', '$50 to $100', '$50 to $100', 'under 25',\n       '$25 to $50', '$50 to $100', '$25 to $50', '$50 to $100',\n       '$100 to $200', '$25 to $50', '$100 to $200', '$50 to $100',\n       '$50 to $100', '$50 to $100', '$50 to $100', '$100 to $200',\n       '$25 to $50', '$50 to $100', '$100 to $200', '$25 to $50',\n       '$25 to $50', 'under 25', '$25 to $50', '$200 and above',\n       '$50 to $100', '$100 to $200', 'under 25', 'under 25',\n       '$100 to $200', '$50 to $100', '$25 to $50', 'under 25',\n       '$50 to $100', '$100 to $200', '$50 to $100', '$25 to $50',\n       '$25 to $50', '$200 and above', '$100 to $200', '$200 and above',\n       '$100 to $200', '$200 and above', 'under 25', '$200 and above',\n       'under 25', '$200 and above', '$100 to $200', '$200 and above',\n       '$50 to $100', '$100 to $200', 'under 25', '$200 and above',\n       '$50 to $100', '$25 to $50', '$25 to $50', '$25 to $50',\n       '$100 to $200', 'under 25', '$50 to $100', '$100 to $200',\n       '$25 to $50', 'under 25', '$25 to $50', '$50 to $100',\n       '$50 to $100', '$100 to $200', '$100 to $200', '$50 to $100',\n       'under 25', '$25 to $50', '$200 and above', 'under 25', 'under 25',\n       '$25 to $50', '$100 to $200', '$25 to $50', '$50 to $100',\n       '$200 and above', 'under 25', '$50 to $100', '$100 to $200'],\n      dtype=object)"
     },
     "execution_count": 7,
     "metadata": {},
     "output_type": "execute_result"
    }
   ],
   "source": [
    "data_y"
   ],
   "metadata": {
    "collapsed": false,
    "pycharm": {
     "name": "#%%\n"
    }
   }
  },
  {
   "cell_type": "code",
   "execution_count": 8,
   "outputs": [
    {
     "data": {
      "text/plain": "array([[0.00000e+00, 4.00000e+00, 8.79460e+04, 1.99900e+01],\n       [1.00000e+00, 4.00000e+00, 5.71400e+03, 2.49900e+01],\n       [2.00000e+00, 4.00000e+00, 7.83750e+05, 1.99900e+01],\n       [3.00000e+00, 4.00000e+00, 4.36000e+03, 3.49900e+01],\n       [4.00000e+00, 4.00000e+00, 7.63724e+05, 2.49900e+01],\n       [5.00000e+00, 4.00000e+00, 8.74000e+02, 2.90000e+01],\n       [6.00000e+00, 4.00000e+00, 9.97890e+04, 6.99900e+01],\n       [7.00000e+00, 4.00000e+00, 2.29600e+04, 2.90000e+01],\n       [8.00000e+00, 4.00000e+00, 4.59059e+05, 2.49900e+01],\n       [9.00000e+00, 4.00000e+00, 1.04091e+05, 1.33800e+01],\n       [1.00000e+01, 4.00000e+00, 1.34815e+05, 1.49900e+01],\n       [1.10000e+01, 4.00000e+00, 1.02286e+05, 2.99900e+01],\n       [1.20000e+01, 4.00000e+00, 2.33910e+04, 2.19000e+02],\n       [1.30000e+01, 4.00000e+00, 2.39734e+05, 5.99900e+01],\n       [1.40000e+01, 4.00000e+00, 2.29600e+04, 9.76200e+01],\n       [1.50000e+01, 4.00000e+00, 2.09850e+05, 3.49900e+01],\n       [1.60000e+01, 4.00000e+00, 2.00666e+05, 5.99900e+01],\n       [1.70000e+01, 4.00000e+00, 1.76100e+04, 4.49900e+01],\n       [1.80000e+01, 0.00000e+00, 0.00000e+00, 4.99900e+01],\n       [1.90000e+01, 4.00000e+00, 8.04300e+03, 2.09800e+01],\n       [2.00000e+01, 4.00000e+00, 8.46200e+04, 5.99900e+01],\n       [2.10000e+01, 4.00000e+00, 9.97890e+04, 6.99900e+01],\n       [2.20000e+01, 4.00000e+00, 2.04874e+05, 1.79900e+01],\n       [2.30000e+01, 4.00000e+00, 4.04270e+04, 4.99900e+01],\n       [2.40000e+01, 4.00000e+00, 9.97890e+04, 6.99900e+01],\n       [2.50000e+01, 4.00000e+00, 1.96020e+04, 3.49900e+01],\n       [2.60000e+01, 4.00000e+00, 4.28300e+03, 6.99900e+01],\n       [2.70000e+01, 4.00000e+00, 8.14670e+04, 1.39990e+02],\n       [2.80000e+01, 4.00000e+00, 1.96020e+04, 3.49900e+01],\n       [2.90000e+01, 4.00000e+00, 2.91400e+03, 1.19990e+02],\n       [3.00000e+01, 4.00000e+00, 2.00666e+05, 5.99900e+01],\n       [3.10000e+01, 4.00000e+00, 4.28300e+03, 6.99900e+01],\n       [3.20000e+01, 4.00000e+00, 8.14670e+04, 9.99900e+01],\n       [3.30000e+01, 4.00000e+00, 2.80250e+04, 5.49900e+01],\n       [3.40000e+01, 4.00000e+00, 5.59400e+03, 1.19990e+02],\n       [3.50000e+01, 4.00000e+00, 1.55540e+04, 4.59800e+01],\n       [3.60000e+01, 4.00000e+00, 2.39734e+05, 5.99900e+01],\n       [3.70000e+01, 4.00000e+00, 6.65800e+03, 1.04990e+02],\n       [3.80000e+01, 4.00000e+00, 1.42940e+05, 3.99800e+01],\n       [3.90000e+01, 4.00000e+00, 2.09850e+05, 3.49900e+01],\n       [4.00000e+01, 4.00000e+00, 8.48310e+04, 1.31300e+01],\n       [4.10000e+01, 4.00000e+00, 1.76100e+04, 4.99900e+01],\n       [4.20000e+01, 4.00000e+00, 3.21000e+02, 4.09990e+02],\n       [4.30000e+01, 4.00000e+00, 1.55350e+04, 9.99900e+01],\n       [4.40000e+01, 4.00000e+00, 5.59400e+03, 1.19990e+02],\n       [4.50000e+01, 4.00000e+00, 4.09520e+04, 7.99000e+00],\n       [4.60000e+01, 4.00000e+00, 2.83390e+04, 1.99900e+01],\n       [4.70000e+01, 4.00000e+00, 4.44000e+02, 1.39990e+02],\n       [4.80000e+01, 4.00000e+00, 1.89570e+04, 9.99900e+01],\n       [4.90000e+01, 4.00000e+00, 1.34535e+05, 2.90000e+01],\n       [5.00000e+01, 4.00000e+00, 8.52820e+04, 8.98000e+00],\n       [5.10000e+01, 4.00000e+00, 1.00260e+04, 5.85000e+01],\n       [5.20000e+01, 4.00000e+00, 6.90000e+02, 1.69990e+02],\n       [5.30000e+01, 4.00000e+00, 8.14680e+04, 5.99900e+01],\n       [5.40000e+01, 4.00000e+00, 1.76100e+04, 4.49900e+01],\n       [5.50000e+01, 4.00000e+00, 1.15710e+04, 3.89800e+01],\n       [5.60000e+01, 4.00000e+00, 3.21000e+02, 3.79990e+02],\n       [5.70000e+01, 4.00000e+00, 2.19300e+03, 1.99990e+02],\n       [5.80000e+01, 4.00000e+00, 8.14680e+04, 2.29990e+02],\n       [5.90000e+01, 4.00000e+00, 1.41910e+04, 1.09990e+02],\n       [6.00000e+01, 4.00000e+00, 2.33910e+04, 3.49000e+02],\n       [6.10000e+01, 4.00000e+00, 7.96620e+04, 2.49900e+01],\n       [6.20000e+01, 4.00000e+00, 2.33910e+04, 2.19990e+02],\n       [6.30000e+01, 4.00000e+00, 1.90870e+04, 1.89900e+01],\n       [6.40000e+01, 4.00000e+00, 8.14680e+04, 2.19990e+02],\n       [6.50000e+01, 4.00000e+00, 2.91400e+03, 1.19990e+02],\n       [6.60000e+01, 4.00000e+00, 2.33910e+04, 3.59000e+02],\n       [6.70000e+01, 4.00000e+00, 8.14680e+04, 5.49900e+01],\n       [6.80000e+01, 4.00000e+00, 1.16935e+05, 1.18990e+02],\n       [6.90000e+01, 4.00000e+00, 1.11790e+04, 1.39900e+01],\n       [7.00000e+01, 4.00000e+00, 3.80400e+03, 9.99990e+02],\n       [7.10000e+01, 4.00000e+00, 1.67640e+04, 8.59500e+01],\n       [7.20000e+01, 4.00000e+00, 3.77738e+05, 4.99900e+01],\n       [7.30000e+01, 4.00000e+00, 5.77640e+04, 4.99900e+01],\n       [7.40000e+01, 4.00000e+00, 2.09850e+05, 3.49900e+01],\n       [7.50000e+01, 4.00000e+00, 2.91400e+03, 1.19990e+02],\n       [7.60000e+01, 4.00000e+00, 5.38300e+03, 1.49300e+01],\n       [7.70000e+01, 4.00000e+00, 5.03700e+03, 7.99800e+01],\n       [7.80000e+01, 4.00000e+00, 2.91400e+03, 1.19990e+02],\n       [7.90000e+01, 4.00000e+00, 7.40000e+01, 3.99900e+01],\n       [8.00000e+01, 4.00000e+00, 1.30990e+04, 1.69900e+01],\n       [8.10000e+01, 4.00000e+00, 4.32540e+04, 4.49000e+01],\n       [8.20000e+01, 4.00000e+00, 4.28300e+03, 6.99900e+01],\n       [8.30000e+01, 4.00000e+00, 1.58000e+02, 7.99900e+01],\n       [8.40000e+01, 4.00000e+00, 1.21100e+03, 1.79990e+02],\n       [8.50000e+01, 4.00000e+00, 5.59400e+03, 1.19990e+02],\n       [8.60000e+01, 4.00000e+00, 8.46210e+04, 5.99900e+01],\n       [8.70000e+01, 4.00000e+00, 3.17500e+03, 1.49700e+01],\n       [8.80000e+01, 4.00000e+00, 4.04270e+04, 4.99900e+01],\n       [8.90000e+01, 4.00000e+00, 1.35780e+04, 2.79000e+02],\n       [9.00000e+01, 4.00000e+00, 2.48790e+04, 1.09900e+01],\n       [9.10000e+01, 4.00000e+00, 2.21580e+04, 1.79900e+01],\n       [9.20000e+01, 4.00000e+00, 1.57960e+04, 3.59900e+01],\n       [9.30000e+01, 4.00000e+00, 1.26220e+04, 1.29990e+02],\n       [9.40000e+01, 4.00000e+00, 1.31300e+04, 3.49900e+01],\n       [9.50000e+01, 4.00000e+00, 2.00666e+05, 5.99900e+01],\n       [9.60000e+01, 4.00000e+00, 1.05900e+03, 4.38700e+02],\n       [9.70000e+01, 4.00000e+00, 9.19700e+03, 1.38900e+01],\n       [9.80000e+01, 4.00000e+00, 8.46210e+04, 5.99900e+01],\n       [9.90000e+01, 4.00000e+00, 2.16840e+04, 1.99950e+02]])"
     },
     "execution_count": 8,
     "metadata": {},
     "output_type": "execute_result"
    }
   ],
   "source": [
    "data_x"
   ],
   "metadata": {
    "collapsed": false,
    "pycharm": {
     "name": "#%%\n"
    }
   }
  },
  {
   "cell_type": "code",
   "execution_count": 9,
   "outputs": [],
   "source": [
    "from sklearn.model_selection import train_test_split\n",
    "from sklearn import model_selection\n",
    "import sklearn.tree as tree"
   ],
   "metadata": {
    "collapsed": false,
    "pycharm": {
     "name": "#%%\n"
    }
   }
  },
  {
   "cell_type": "code",
   "execution_count": 10,
   "outputs": [],
   "source": [
    "X_train,X_test, y_train,y_test = train_test_split(data_x,data_y,train_size=0.2)"
   ],
   "metadata": {
    "collapsed": false,
    "pycharm": {
     "name": "#%%\n"
    }
   }
  },
  {
   "cell_type": "code",
   "execution_count": 11,
   "outputs": [
    {
     "name": "stderr",
     "output_type": "stream",
     "text": [
      "/Users/williammckeon/anaconda3/lib/python3.8/site-packages/sklearn/model_selection/_split.py:666: UserWarning: The least populated class in y has only 2 members, which is less than n_splits=4.\n",
      "  warnings.warn((\"The least populated class in y has only %d\"\n"
     ]
    }
   ],
   "source": [
    "dt = tree.DecisionTreeClassifier()\n",
    "\n",
    "params_dt = {'criterion':['gini','entropy'],\n",
    "             'max_depth':[2,3,4,5,6],\n",
    "             'min_samples_leaf':list(range(2,20,2))}\n",
    "\n",
    "dt_opt = model_selection.GridSearchCV(dt,params_dt,cv =4)\n",
    "\n",
    "\n",
    "# fit the model and optimize\n",
    "dt_opt.fit(X_train,y_train)\n",
    "\n",
    "# store the resutl sin a dataframe\n",
    "dt_df = pd.DataFrame(dt_opt.cv_results_)"
   ],
   "metadata": {
    "collapsed": false,
    "pycharm": {
     "name": "#%%\n"
    }
   }
  },
  {
   "cell_type": "code",
   "execution_count": 12,
   "outputs": [
    {
     "data": {
      "text/plain": "    mean_fit_time  std_fit_time  mean_score_time  std_score_time  \\\n0        0.001186      0.001646         0.000229        0.000160   \n1        0.000210      0.000004         0.000130        0.000004   \n2        0.000234      0.000024         0.000154        0.000028   \n3        0.000207      0.000008         0.000129        0.000001   \n4        0.000204      0.000005         0.000129        0.000005   \n..            ...           ...              ...             ...   \n85       0.000188      0.000003         0.000120        0.000005   \n86       0.000190      0.000004         0.000121        0.000004   \n87       0.000188      0.000002         0.000118        0.000003   \n88       0.000191      0.000004         0.000120        0.000002   \n89       0.000190      0.000004         0.000121        0.000004   \n\n   param_criterion param_max_depth param_min_samples_leaf  \\\n0             gini               2                      2   \n1             gini               2                      4   \n2             gini               2                      6   \n3             gini               2                      8   \n4             gini               2                     10   \n..             ...             ...                    ...   \n85         entropy               6                     10   \n86         entropy               6                     12   \n87         entropy               6                     14   \n88         entropy               6                     16   \n89         entropy               6                     18   \n\n                                               params  split0_test_score  \\\n0   {'criterion': 'gini', 'max_depth': 2, 'min_sam...                0.8   \n1   {'criterion': 'gini', 'max_depth': 2, 'min_sam...                0.4   \n2   {'criterion': 'gini', 'max_depth': 2, 'min_sam...                0.4   \n3   {'criterion': 'gini', 'max_depth': 2, 'min_sam...                0.2   \n4   {'criterion': 'gini', 'max_depth': 2, 'min_sam...                0.2   \n..                                                ...                ...   \n85  {'criterion': 'entropy', 'max_depth': 6, 'min_...                0.2   \n86  {'criterion': 'entropy', 'max_depth': 6, 'min_...                0.2   \n87  {'criterion': 'entropy', 'max_depth': 6, 'min_...                0.2   \n88  {'criterion': 'entropy', 'max_depth': 6, 'min_...                0.2   \n89  {'criterion': 'entropy', 'max_depth': 6, 'min_...                0.2   \n\n    split1_test_score  split2_test_score  split3_test_score  mean_test_score  \\\n0                 1.0                0.8                0.6             0.80   \n1                 0.6                0.8                0.6             0.60   \n2                 0.4                0.6                0.4             0.45   \n3                 0.2                0.2                0.2             0.20   \n4                 0.2                0.2                0.2             0.20   \n..                ...                ...                ...              ...   \n85                0.2                0.2                0.2             0.20   \n86                0.2                0.2                0.2             0.20   \n87                0.2                0.2                0.2             0.20   \n88                0.2                0.2                0.2             0.20   \n89                0.2                0.2                0.2             0.20   \n\n    std_test_score  rank_test_score  \n0         0.141421               10  \n1         0.141421               11  \n2         0.086603               21  \n3         0.000000               31  \n4         0.000000               31  \n..             ...              ...  \n85        0.000000               31  \n86        0.000000               31  \n87        0.000000               31  \n88        0.000000               31  \n89        0.000000               31  \n\n[90 rows x 15 columns]",
      "text/html": "<div>\n<style scoped>\n    .dataframe tbody tr th:only-of-type {\n        vertical-align: middle;\n    }\n\n    .dataframe tbody tr th {\n        vertical-align: top;\n    }\n\n    .dataframe thead th {\n        text-align: right;\n    }\n</style>\n<table border=\"1\" class=\"dataframe\">\n  <thead>\n    <tr style=\"text-align: right;\">\n      <th></th>\n      <th>mean_fit_time</th>\n      <th>std_fit_time</th>\n      <th>mean_score_time</th>\n      <th>std_score_time</th>\n      <th>param_criterion</th>\n      <th>param_max_depth</th>\n      <th>param_min_samples_leaf</th>\n      <th>params</th>\n      <th>split0_test_score</th>\n      <th>split1_test_score</th>\n      <th>split2_test_score</th>\n      <th>split3_test_score</th>\n      <th>mean_test_score</th>\n      <th>std_test_score</th>\n      <th>rank_test_score</th>\n    </tr>\n  </thead>\n  <tbody>\n    <tr>\n      <th>0</th>\n      <td>0.001186</td>\n      <td>0.001646</td>\n      <td>0.000229</td>\n      <td>0.000160</td>\n      <td>gini</td>\n      <td>2</td>\n      <td>2</td>\n      <td>{'criterion': 'gini', 'max_depth': 2, 'min_sam...</td>\n      <td>0.8</td>\n      <td>1.0</td>\n      <td>0.8</td>\n      <td>0.6</td>\n      <td>0.80</td>\n      <td>0.141421</td>\n      <td>10</td>\n    </tr>\n    <tr>\n      <th>1</th>\n      <td>0.000210</td>\n      <td>0.000004</td>\n      <td>0.000130</td>\n      <td>0.000004</td>\n      <td>gini</td>\n      <td>2</td>\n      <td>4</td>\n      <td>{'criterion': 'gini', 'max_depth': 2, 'min_sam...</td>\n      <td>0.4</td>\n      <td>0.6</td>\n      <td>0.8</td>\n      <td>0.6</td>\n      <td>0.60</td>\n      <td>0.141421</td>\n      <td>11</td>\n    </tr>\n    <tr>\n      <th>2</th>\n      <td>0.000234</td>\n      <td>0.000024</td>\n      <td>0.000154</td>\n      <td>0.000028</td>\n      <td>gini</td>\n      <td>2</td>\n      <td>6</td>\n      <td>{'criterion': 'gini', 'max_depth': 2, 'min_sam...</td>\n      <td>0.4</td>\n      <td>0.4</td>\n      <td>0.6</td>\n      <td>0.4</td>\n      <td>0.45</td>\n      <td>0.086603</td>\n      <td>21</td>\n    </tr>\n    <tr>\n      <th>3</th>\n      <td>0.000207</td>\n      <td>0.000008</td>\n      <td>0.000129</td>\n      <td>0.000001</td>\n      <td>gini</td>\n      <td>2</td>\n      <td>8</td>\n      <td>{'criterion': 'gini', 'max_depth': 2, 'min_sam...</td>\n      <td>0.2</td>\n      <td>0.2</td>\n      <td>0.2</td>\n      <td>0.2</td>\n      <td>0.20</td>\n      <td>0.000000</td>\n      <td>31</td>\n    </tr>\n    <tr>\n      <th>4</th>\n      <td>0.000204</td>\n      <td>0.000005</td>\n      <td>0.000129</td>\n      <td>0.000005</td>\n      <td>gini</td>\n      <td>2</td>\n      <td>10</td>\n      <td>{'criterion': 'gini', 'max_depth': 2, 'min_sam...</td>\n      <td>0.2</td>\n      <td>0.2</td>\n      <td>0.2</td>\n      <td>0.2</td>\n      <td>0.20</td>\n      <td>0.000000</td>\n      <td>31</td>\n    </tr>\n    <tr>\n      <th>...</th>\n      <td>...</td>\n      <td>...</td>\n      <td>...</td>\n      <td>...</td>\n      <td>...</td>\n      <td>...</td>\n      <td>...</td>\n      <td>...</td>\n      <td>...</td>\n      <td>...</td>\n      <td>...</td>\n      <td>...</td>\n      <td>...</td>\n      <td>...</td>\n      <td>...</td>\n    </tr>\n    <tr>\n      <th>85</th>\n      <td>0.000188</td>\n      <td>0.000003</td>\n      <td>0.000120</td>\n      <td>0.000005</td>\n      <td>entropy</td>\n      <td>6</td>\n      <td>10</td>\n      <td>{'criterion': 'entropy', 'max_depth': 6, 'min_...</td>\n      <td>0.2</td>\n      <td>0.2</td>\n      <td>0.2</td>\n      <td>0.2</td>\n      <td>0.20</td>\n      <td>0.000000</td>\n      <td>31</td>\n    </tr>\n    <tr>\n      <th>86</th>\n      <td>0.000190</td>\n      <td>0.000004</td>\n      <td>0.000121</td>\n      <td>0.000004</td>\n      <td>entropy</td>\n      <td>6</td>\n      <td>12</td>\n      <td>{'criterion': 'entropy', 'max_depth': 6, 'min_...</td>\n      <td>0.2</td>\n      <td>0.2</td>\n      <td>0.2</td>\n      <td>0.2</td>\n      <td>0.20</td>\n      <td>0.000000</td>\n      <td>31</td>\n    </tr>\n    <tr>\n      <th>87</th>\n      <td>0.000188</td>\n      <td>0.000002</td>\n      <td>0.000118</td>\n      <td>0.000003</td>\n      <td>entropy</td>\n      <td>6</td>\n      <td>14</td>\n      <td>{'criterion': 'entropy', 'max_depth': 6, 'min_...</td>\n      <td>0.2</td>\n      <td>0.2</td>\n      <td>0.2</td>\n      <td>0.2</td>\n      <td>0.20</td>\n      <td>0.000000</td>\n      <td>31</td>\n    </tr>\n    <tr>\n      <th>88</th>\n      <td>0.000191</td>\n      <td>0.000004</td>\n      <td>0.000120</td>\n      <td>0.000002</td>\n      <td>entropy</td>\n      <td>6</td>\n      <td>16</td>\n      <td>{'criterion': 'entropy', 'max_depth': 6, 'min_...</td>\n      <td>0.2</td>\n      <td>0.2</td>\n      <td>0.2</td>\n      <td>0.2</td>\n      <td>0.20</td>\n      <td>0.000000</td>\n      <td>31</td>\n    </tr>\n    <tr>\n      <th>89</th>\n      <td>0.000190</td>\n      <td>0.000004</td>\n      <td>0.000121</td>\n      <td>0.000004</td>\n      <td>entropy</td>\n      <td>6</td>\n      <td>18</td>\n      <td>{'criterion': 'entropy', 'max_depth': 6, 'min_...</td>\n      <td>0.2</td>\n      <td>0.2</td>\n      <td>0.2</td>\n      <td>0.2</td>\n      <td>0.20</td>\n      <td>0.000000</td>\n      <td>31</td>\n    </tr>\n  </tbody>\n</table>\n<p>90 rows × 15 columns</p>\n</div>"
     },
     "execution_count": 12,
     "metadata": {},
     "output_type": "execute_result"
    }
   ],
   "source": [
    "dt_df"
   ],
   "metadata": {
    "collapsed": false,
    "pycharm": {
     "name": "#%%\n"
    }
   }
  },
  {
   "cell_type": "code",
   "execution_count": 12,
   "outputs": [],
   "source": [],
   "metadata": {
    "collapsed": false,
    "pycharm": {
     "name": "#%%\n"
    }
   }
  }
 ],
 "metadata": {
  "kernelspec": {
   "display_name": "Python 3",
   "language": "python",
   "name": "python3"
  },
  "language_info": {
   "codemirror_mode": {
    "name": "ipython",
    "version": 2
   },
   "file_extension": ".py",
   "mimetype": "text/x-python",
   "name": "python",
   "nbconvert_exporter": "python",
   "pygments_lexer": "ipython2",
   "version": "2.7.6"
  }
 },
 "nbformat": 4,
 "nbformat_minor": 0
}