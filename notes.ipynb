{
 "cells": [
  {
   "cell_type": "code",
   "execution_count": 11,
   "metadata": {
    "pycharm": {
     "is_executing": true
    }
   },
   "outputs": [],
   "source": [
    "import pandas as pd\n",
    "import numpy as np\n",
    "import islanders as ir\n",
    "import irdatacleaning\n",
    "from tensorflow import keras\n",
    "# data = ir.datasets(\"/Users/williammckeon/Sync/islander/dataset/amazon electronics.csv\")\n",
    "data = pd.read_csv(\"/Users/williammckeon/Sync/islander/dataset/amazon electronics.csv\")"
   ]
  },
  {
   "cell_type": "code",
   "execution_count": 12,
   "metadata": {
    "pycharm": {
     "name": "#%%\n"
    }
   },
   "outputs": [],
   "source": [
    "def test(*array):\n",
    "    print(array[1])"
   ]
  },
  {
   "cell_type": "code",
   "execution_count": 3,
   "metadata": {
    "pycharm": {
     "name": "#%%\n"
    }
   },
   "outputs": [
    {
     "data": {
      "text/plain": [
       "Index(['Unnamed: 0', 'rankings', 'name', 'stars', 'number_of_ratings', 'price',\n",
       "       'price range'],\n",
       "      dtype='object')"
      ]
     },
     "execution_count": 3,
     "metadata": {},
     "output_type": "execute_result"
    }
   ],
   "source": [
    "data.columns"
   ]
  },
  {
   "cell_type": "code",
   "execution_count": 4,
   "metadata": {
    "pycharm": {
     "name": "#%%\n"
    }
   },
   "outputs": [
    {
     "data": {
      "text/html": [
       "<div>\n",
       "<style scoped>\n",
       "    .dataframe tbody tr th:only-of-type {\n",
       "        vertical-align: middle;\n",
       "    }\n",
       "\n",
       "    .dataframe tbody tr th {\n",
       "        vertical-align: top;\n",
       "    }\n",
       "\n",
       "    .dataframe thead th {\n",
       "        text-align: right;\n",
       "    }\n",
       "</style>\n",
       "<table border=\"1\" class=\"dataframe\">\n",
       "  <thead>\n",
       "    <tr style=\"text-align: right;\">\n",
       "      <th></th>\n",
       "      <th>Unnamed: 0</th>\n",
       "      <th>rankings</th>\n",
       "      <th>name</th>\n",
       "      <th>stars</th>\n",
       "      <th>number_of_ratings</th>\n",
       "      <th>price</th>\n",
       "      <th>price range</th>\n",
       "    </tr>\n",
       "  </thead>\n",
       "  <tbody>\n",
       "    <tr>\n",
       "      <th>0</th>\n",
       "      <td>0</td>\n",
       "      <td>0</td>\n",
       "      <td>Fire TV Stick with Alexa Voice Remote (include...</td>\n",
       "      <td>4.0</td>\n",
       "      <td>87946</td>\n",
       "      <td>19.99</td>\n",
       "      <td>under 25</td>\n",
       "    </tr>\n",
       "    <tr>\n",
       "      <th>1</th>\n",
       "      <td>1</td>\n",
       "      <td>1</td>\n",
       "      <td>Fire TV Stick 4K streaming device with Alexa V...</td>\n",
       "      <td>4.0</td>\n",
       "      <td>5714</td>\n",
       "      <td>24.99</td>\n",
       "      <td>under 25</td>\n",
       "    </tr>\n",
       "    <tr>\n",
       "      <th>2</th>\n",
       "      <td>2</td>\n",
       "      <td>2</td>\n",
       "      <td>Echo Dot (3rd Gen) - Smart speaker with Alexa ...</td>\n",
       "      <td>4.0</td>\n",
       "      <td>783750</td>\n",
       "      <td>19.99</td>\n",
       "      <td>under 25</td>\n",
       "    </tr>\n",
       "    <tr>\n",
       "      <th>3</th>\n",
       "      <td>3</td>\n",
       "      <td>3</td>\n",
       "      <td>Introducing Fire TV Stick 4K Max streaming dev...</td>\n",
       "      <td>4.0</td>\n",
       "      <td>4360</td>\n",
       "      <td>34.99</td>\n",
       "      <td>$25 to $50</td>\n",
       "    </tr>\n",
       "    <tr>\n",
       "      <th>4</th>\n",
       "      <td>4</td>\n",
       "      <td>4</td>\n",
       "      <td>Fire TV Stick 4K streaming device with Alexa V...</td>\n",
       "      <td>4.0</td>\n",
       "      <td>763724</td>\n",
       "      <td>24.99</td>\n",
       "      <td>under 25</td>\n",
       "    </tr>\n",
       "  </tbody>\n",
       "</table>\n",
       "</div>"
      ],
      "text/plain": [
       "   Unnamed: 0  rankings                                               name  \\\n",
       "0           0         0  Fire TV Stick with Alexa Voice Remote (include...   \n",
       "1           1         1  Fire TV Stick 4K streaming device with Alexa V...   \n",
       "2           2         2  Echo Dot (3rd Gen) - Smart speaker with Alexa ...   \n",
       "3           3         3  Introducing Fire TV Stick 4K Max streaming dev...   \n",
       "4           4         4  Fire TV Stick 4K streaming device with Alexa V...   \n",
       "\n",
       "   stars  number_of_ratings  price price range  \n",
       "0    4.0              87946  19.99    under 25  \n",
       "1    4.0               5714  24.99    under 25  \n",
       "2    4.0             783750  19.99    under 25  \n",
       "3    4.0               4360  34.99  $25 to $50  \n",
       "4    4.0             763724  24.99    under 25  "
      ]
     },
     "execution_count": 4,
     "metadata": {},
     "output_type": "execute_result"
    }
   ],
   "source": [
    "data.head()"
   ]
  },
  {
   "cell_type": "code",
   "execution_count": 5,
   "metadata": {
    "pycharm": {
     "name": "#%%\n"
    }
   },
   "outputs": [],
   "source": [
    "name = [i for i in data.name]\n",
    "data.drop(columns = \"name\", inplace=True)"
   ]
  },
  {
   "cell_type": "code",
   "execution_count": 6,
   "metadata": {
    "pycharm": {
     "name": "#%%\n"
    }
   },
   "outputs": [],
   "source": [
    "# encoder = irdatacleaning.Encoder(df = data, type=\"ordinalencoder\", columns=[\"price range\"])\n",
    "# data = encoder.check()"
   ]
  },
  {
   "cell_type": "code",
   "execution_count": 4,
   "metadata": {
    "pycharm": {
     "name": "#%%\n"
    }
   },
   "outputs": [],
   "source": [
    "data_x = np.array(data.iloc[:,:-1].values)"
   ]
  },
  {
   "cell_type": "code",
   "execution_count": 5,
   "metadata": {
    "pycharm": {
     "name": "#%%\n"
    }
   },
   "outputs": [],
   "source": [
    "data_y = np.array(data.iloc[:,-1].values)"
   ]
  },
  {
   "cell_type": "code",
   "execution_count": 10,
   "metadata": {
    "pycharm": {
     "name": "#%%\n"
    }
   },
   "outputs": [],
   "source": [
    "unique, counts = np.unique(data_y, return_counts=True)"
   ]
  },
  {
   "cell_type": "code",
   "execution_count": 12,
   "metadata": {
    "pycharm": {
     "name": "#%%\n"
    }
   },
   "outputs": [
    {
     "data": {
      "text/plain": [
       "5"
      ]
     },
     "execution_count": 12,
     "metadata": {},
     "output_type": "execute_result"
    }
   ],
   "source": [
    "len(unique)"
   ]
  },
  {
   "cell_type": "code",
   "execution_count": 24,
   "metadata": {
    "pycharm": {
     "name": "#%%\n"
    }
   },
   "outputs": [
    {
     "data": {
      "text/plain": [
       "array([[0.00000e+00, 0.00000e+00, 4.00000e+00, 8.79460e+04, 1.99900e+01],\n",
       "       [1.00000e+00, 1.00000e+00, 4.00000e+00, 5.71400e+03, 2.49900e+01],\n",
       "       [2.00000e+00, 2.00000e+00, 4.00000e+00, 7.83750e+05, 1.99900e+01],\n",
       "       [3.00000e+00, 3.00000e+00, 4.00000e+00, 4.36000e+03, 3.49900e+01],\n",
       "       [4.00000e+00, 4.00000e+00, 4.00000e+00, 7.63724e+05, 2.49900e+01],\n",
       "       [5.00000e+00, 5.00000e+00, 4.00000e+00, 8.74000e+02, 2.90000e+01],\n",
       "       [6.00000e+00, 6.00000e+00, 4.00000e+00, 9.97890e+04, 6.99900e+01],\n",
       "       [7.00000e+00, 7.00000e+00, 4.00000e+00, 2.29600e+04, 2.90000e+01],\n",
       "       [8.00000e+00, 8.00000e+00, 4.00000e+00, 4.59059e+05, 2.49900e+01],\n",
       "       [9.00000e+00, 9.00000e+00, 4.00000e+00, 1.04091e+05, 1.33800e+01],\n",
       "       [1.00000e+01, 1.00000e+01, 4.00000e+00, 1.34815e+05, 1.49900e+01],\n",
       "       [1.10000e+01, 1.10000e+01, 4.00000e+00, 1.02286e+05, 2.99900e+01],\n",
       "       [1.20000e+01, 1.20000e+01, 4.00000e+00, 2.33910e+04, 2.19000e+02],\n",
       "       [1.30000e+01, 1.30000e+01, 4.00000e+00, 2.39734e+05, 5.99900e+01],\n",
       "       [1.40000e+01, 1.40000e+01, 4.00000e+00, 2.29600e+04, 9.76200e+01],\n",
       "       [1.50000e+01, 1.50000e+01, 4.00000e+00, 2.09850e+05, 3.49900e+01],\n",
       "       [1.60000e+01, 1.60000e+01, 4.00000e+00, 2.00666e+05, 5.99900e+01],\n",
       "       [1.70000e+01, 1.70000e+01, 4.00000e+00, 1.76100e+04, 4.49900e+01],\n",
       "       [1.80000e+01, 1.80000e+01, 0.00000e+00, 0.00000e+00, 4.99900e+01],\n",
       "       [1.90000e+01, 1.90000e+01, 4.00000e+00, 8.04300e+03, 2.09800e+01],\n",
       "       [2.00000e+01, 2.00000e+01, 4.00000e+00, 8.46200e+04, 5.99900e+01],\n",
       "       [2.10000e+01, 2.10000e+01, 4.00000e+00, 9.97890e+04, 6.99900e+01],\n",
       "       [2.20000e+01, 2.20000e+01, 4.00000e+00, 2.04874e+05, 1.79900e+01],\n",
       "       [2.30000e+01, 2.30000e+01, 4.00000e+00, 4.04270e+04, 4.99900e+01],\n",
       "       [2.40000e+01, 2.40000e+01, 4.00000e+00, 9.97890e+04, 6.99900e+01],\n",
       "       [2.50000e+01, 2.50000e+01, 4.00000e+00, 1.96020e+04, 3.49900e+01],\n",
       "       [2.60000e+01, 2.60000e+01, 4.00000e+00, 4.28300e+03, 6.99900e+01],\n",
       "       [2.70000e+01, 2.70000e+01, 4.00000e+00, 8.14670e+04, 1.39990e+02],\n",
       "       [2.80000e+01, 2.80000e+01, 4.00000e+00, 1.96020e+04, 3.49900e+01],\n",
       "       [2.90000e+01, 2.90000e+01, 4.00000e+00, 2.91400e+03, 1.19990e+02],\n",
       "       [3.00000e+01, 3.00000e+01, 4.00000e+00, 2.00666e+05, 5.99900e+01],\n",
       "       [3.10000e+01, 3.10000e+01, 4.00000e+00, 4.28300e+03, 6.99900e+01],\n",
       "       [3.20000e+01, 3.20000e+01, 4.00000e+00, 8.14670e+04, 9.99900e+01],\n",
       "       [3.30000e+01, 3.30000e+01, 4.00000e+00, 2.80250e+04, 5.49900e+01],\n",
       "       [3.40000e+01, 3.40000e+01, 4.00000e+00, 5.59400e+03, 1.19990e+02],\n",
       "       [3.50000e+01, 3.50000e+01, 4.00000e+00, 1.55540e+04, 4.59800e+01],\n",
       "       [3.60000e+01, 3.60000e+01, 4.00000e+00, 2.39734e+05, 5.99900e+01],\n",
       "       [3.70000e+01, 3.70000e+01, 4.00000e+00, 6.65800e+03, 1.04990e+02],\n",
       "       [3.80000e+01, 3.80000e+01, 4.00000e+00, 1.42940e+05, 3.99800e+01],\n",
       "       [3.90000e+01, 3.90000e+01, 4.00000e+00, 2.09850e+05, 3.49900e+01],\n",
       "       [4.00000e+01, 4.00000e+01, 4.00000e+00, 8.48310e+04, 1.31300e+01],\n",
       "       [4.10000e+01, 4.10000e+01, 4.00000e+00, 1.76100e+04, 4.99900e+01],\n",
       "       [4.20000e+01, 4.20000e+01, 4.00000e+00, 3.21000e+02, 4.09990e+02],\n",
       "       [4.30000e+01, 4.30000e+01, 4.00000e+00, 1.55350e+04, 9.99900e+01],\n",
       "       [4.40000e+01, 4.40000e+01, 4.00000e+00, 5.59400e+03, 1.19990e+02],\n",
       "       [4.50000e+01, 4.50000e+01, 4.00000e+00, 4.09520e+04, 7.99000e+00],\n",
       "       [4.60000e+01, 4.60000e+01, 4.00000e+00, 2.83390e+04, 1.99900e+01],\n",
       "       [4.70000e+01, 4.70000e+01, 4.00000e+00, 4.44000e+02, 1.39990e+02],\n",
       "       [4.80000e+01, 4.80000e+01, 4.00000e+00, 1.89570e+04, 9.99900e+01],\n",
       "       [4.90000e+01, 4.90000e+01, 4.00000e+00, 1.34535e+05, 2.90000e+01],\n",
       "       [0.00000e+00, 5.00000e+01, 4.00000e+00, 8.52820e+04, 8.98000e+00],\n",
       "       [1.00000e+00, 5.10000e+01, 4.00000e+00, 1.00260e+04, 5.85000e+01],\n",
       "       [2.00000e+00, 5.20000e+01, 4.00000e+00, 6.90000e+02, 1.69990e+02],\n",
       "       [3.00000e+00, 5.30000e+01, 4.00000e+00, 8.14680e+04, 5.99900e+01],\n",
       "       [4.00000e+00, 5.40000e+01, 4.00000e+00, 1.76100e+04, 4.49900e+01],\n",
       "       [5.00000e+00, 5.50000e+01, 4.00000e+00, 1.15710e+04, 3.89800e+01],\n",
       "       [6.00000e+00, 5.60000e+01, 4.00000e+00, 3.21000e+02, 3.79990e+02],\n",
       "       [7.00000e+00, 5.70000e+01, 4.00000e+00, 2.19300e+03, 1.99990e+02],\n",
       "       [8.00000e+00, 5.80000e+01, 4.00000e+00, 8.14680e+04, 2.29990e+02],\n",
       "       [9.00000e+00, 5.90000e+01, 4.00000e+00, 1.41910e+04, 1.09990e+02],\n",
       "       [1.00000e+01, 6.00000e+01, 4.00000e+00, 2.33910e+04, 3.49000e+02],\n",
       "       [1.10000e+01, 6.10000e+01, 4.00000e+00, 7.96620e+04, 2.49900e+01],\n",
       "       [1.20000e+01, 6.20000e+01, 4.00000e+00, 2.33910e+04, 2.19990e+02],\n",
       "       [1.30000e+01, 6.30000e+01, 4.00000e+00, 1.90870e+04, 1.89900e+01],\n",
       "       [1.40000e+01, 6.40000e+01, 4.00000e+00, 8.14680e+04, 2.19990e+02],\n",
       "       [1.50000e+01, 6.50000e+01, 4.00000e+00, 2.91400e+03, 1.19990e+02],\n",
       "       [1.60000e+01, 6.60000e+01, 4.00000e+00, 2.33910e+04, 3.59000e+02],\n",
       "       [1.70000e+01, 6.70000e+01, 4.00000e+00, 8.14680e+04, 5.49900e+01],\n",
       "       [1.80000e+01, 6.80000e+01, 4.00000e+00, 1.16935e+05, 1.18990e+02],\n",
       "       [1.90000e+01, 6.90000e+01, 4.00000e+00, 1.11790e+04, 1.39900e+01],\n",
       "       [2.00000e+01, 7.00000e+01, 4.00000e+00, 3.80400e+03, 9.99990e+02],\n",
       "       [2.10000e+01, 7.10000e+01, 4.00000e+00, 1.67640e+04, 8.59500e+01],\n",
       "       [2.20000e+01, 7.20000e+01, 4.00000e+00, 3.77738e+05, 4.99900e+01],\n",
       "       [2.30000e+01, 7.30000e+01, 4.00000e+00, 5.77640e+04, 4.99900e+01],\n",
       "       [2.40000e+01, 7.40000e+01, 4.00000e+00, 2.09850e+05, 3.49900e+01],\n",
       "       [2.50000e+01, 7.50000e+01, 4.00000e+00, 2.91400e+03, 1.19990e+02],\n",
       "       [2.60000e+01, 7.60000e+01, 4.00000e+00, 5.38300e+03, 1.49300e+01],\n",
       "       [2.70000e+01, 7.70000e+01, 4.00000e+00, 5.03700e+03, 7.99800e+01],\n",
       "       [2.80000e+01, 7.80000e+01, 4.00000e+00, 2.91400e+03, 1.19990e+02],\n",
       "       [2.90000e+01, 7.90000e+01, 4.00000e+00, 7.40000e+01, 3.99900e+01],\n",
       "       [3.00000e+01, 8.00000e+01, 4.00000e+00, 1.30990e+04, 1.69900e+01],\n",
       "       [3.10000e+01, 8.10000e+01, 4.00000e+00, 4.32540e+04, 4.49000e+01],\n",
       "       [3.20000e+01, 8.20000e+01, 4.00000e+00, 4.28300e+03, 6.99900e+01],\n",
       "       [3.30000e+01, 8.30000e+01, 4.00000e+00, 1.58000e+02, 7.99900e+01],\n",
       "       [3.40000e+01, 8.40000e+01, 4.00000e+00, 1.21100e+03, 1.79990e+02],\n",
       "       [3.50000e+01, 8.50000e+01, 4.00000e+00, 5.59400e+03, 1.19990e+02],\n",
       "       [3.60000e+01, 8.60000e+01, 4.00000e+00, 8.46210e+04, 5.99900e+01],\n",
       "       [3.70000e+01, 8.70000e+01, 4.00000e+00, 3.17500e+03, 1.49700e+01],\n",
       "       [3.80000e+01, 8.80000e+01, 4.00000e+00, 4.04270e+04, 4.99900e+01],\n",
       "       [3.90000e+01, 8.90000e+01, 4.00000e+00, 1.35780e+04, 2.79000e+02],\n",
       "       [4.00000e+01, 9.00000e+01, 4.00000e+00, 2.48790e+04, 1.09900e+01],\n",
       "       [4.10000e+01, 9.10000e+01, 4.00000e+00, 2.21580e+04, 1.79900e+01],\n",
       "       [4.20000e+01, 9.20000e+01, 4.00000e+00, 1.57960e+04, 3.59900e+01],\n",
       "       [4.30000e+01, 9.30000e+01, 4.00000e+00, 1.26220e+04, 1.29990e+02],\n",
       "       [4.40000e+01, 9.40000e+01, 4.00000e+00, 1.31300e+04, 3.49900e+01],\n",
       "       [4.50000e+01, 9.50000e+01, 4.00000e+00, 2.00666e+05, 5.99900e+01],\n",
       "       [4.60000e+01, 9.60000e+01, 4.00000e+00, 1.05900e+03, 4.38700e+02],\n",
       "       [4.70000e+01, 9.70000e+01, 4.00000e+00, 9.19700e+03, 1.38900e+01],\n",
       "       [4.80000e+01, 9.80000e+01, 4.00000e+00, 8.46210e+04, 5.99900e+01],\n",
       "       [4.90000e+01, 9.90000e+01, 4.00000e+00, 2.16840e+04, 1.99950e+02]])"
      ]
     },
     "execution_count": 24,
     "metadata": {},
     "output_type": "execute_result"
    }
   ],
   "source": [
    "data_x"
   ]
  },
  {
   "cell_type": "code",
   "execution_count": 14,
   "metadata": {
    "pycharm": {
     "name": "#%%\n"
    }
   },
   "outputs": [],
   "source": [
    "from sklearn.model_selection import train_test_split\n",
    "from sklearn import model_selection\n",
    "import sklearn.tree as tree"
   ]
  },
  {
   "cell_type": "code",
   "execution_count": 15,
   "metadata": {
    "pycharm": {
     "name": "#%%\n"
    }
   },
   "outputs": [],
   "source": [
    "X_train,X_test, y_train,y_test = train_test_split(data_x,data_y,train_size=0.2)"
   ]
  },
  {
   "cell_type": "code",
   "execution_count": 16,
   "metadata": {
    "pycharm": {
     "name": "#%%\n"
    }
   },
   "outputs": [],
   "source": [
    "unique, counts = np.unique(y_train, return_counts=True)"
   ]
  },
  {
   "cell_type": "code",
   "execution_count": 18,
   "metadata": {
    "pycharm": {
     "name": "#%%\n"
    }
   },
   "outputs": [
    {
     "data": {
      "text/plain": [
       "array(['$100 to $200', '$200 and above', '$25 to $50', '$50 to $100',\n",
       "       'under 25'], dtype=object)"
      ]
     },
     "execution_count": 18,
     "metadata": {},
     "output_type": "execute_result"
    }
   ],
   "source": [
    "unique"
   ]
  },
  {
   "cell_type": "markdown",
   "metadata": {},
   "source": [
    "rember you will need a way to find out how many values count there is in the atribute column and numbers are considered 1"
   ]
  },
  {
   "cell_type": "markdown",
   "metadata": {
    "pycharm": {
     "name": "#%% md\n"
    }
   },
   "source": [
    "https://www.linkedin.com/in/tiffanysithiphone/"
   ]
  },
  {
   "cell_type": "code",
   "execution_count": 29,
   "metadata": {},
   "outputs": [],
   "source": [
    "# def dtclass(*array):\n",
    "#     X_train = array[0]\n",
    "#     y_train = array[1]\n",
    "#     dt = tree.DecisionTreeClassifier()\n",
    "#     length_dt = tree.DecisionTreeClassifier()\n",
    "#     length_dt.fit(X_train,y_train)\n",
    "#     print(length_dt.get_depth())\n",
    "#     params_dt = {'criterion':['gini','entropy'],\n",
    "#                  'max_depth':[i for i in range(1,length_dt.get_depth()*2)],\n",
    "#                  'min_samples_leaf':list(range(2,length_dt.get_n_leaves()*2,2))}\n",
    "\n",
    "#     dt_opt = model_selection.GridSearchCV(dt,params_dt,cv =round(len(unique)))\n",
    "\n",
    "\n",
    "#     # fit the model and optimize\n",
    "#     dt_opt.fit(X_train,y_train)\n",
    "\n",
    "#     # store the resutl sin a dataframe\n",
    "#     results = pd.DataFrame(dt_opt.cv_results_)\n",
    "#     ranking = np.array(results.rank_test_score.sort_values().index)\n",
    "#     top = {\"rank\":[],\n",
    "#           \"score\":[],\n",
    "#            \"time\":[],\n",
    "#            \"stats\":[]}\n",
    "#     for i in range(0,5):\n",
    "#         top[\"rank\"].append(results[\"rank_test_score\"][ranking[i]])\n",
    "#         top[\"score\"].append(results[\"mean_test_score\"][ranking[i]])\n",
    "#         top[\"time\"].append(results[\"mean_score_time\"][ranking[i]])\n",
    "#         top[\"stats\"].append(results[\"params\"][ranking[i]])\n",
    "#     not_num_1 = []\n",
    "#     columns = top.keys()\n",
    "#     for  i in range(len(top[\"rank\"])):\n",
    "#         if top[\"rank\"][i] >1:\n",
    "#             not_num_1.append(i)\n",
    "#     if len(not_num_1)!=0:\n",
    "#         for i in reversed(not_num_1):\n",
    "#             for j in columns:\n",
    "#                 top[j].pop(i)\n",
    "#     if len(top[\"rank\"])>1:\n",
    "#     #     print(len(top))\n",
    "#         top_1 = pd.DataFrame(data = top, columns = columns)\n",
    "#     #     print(top_1)\n",
    "#         best_score = top_1.score.sort_values()\n",
    "#     #     print(best_score)\n",
    "#         if best_score[0]== best_score[1]:\n",
    "#             best_time = top_1.time.sort_values().index[0]\n",
    "#             best = top_1[\"stats\"][best_time]\n",
    "#     #         print(best)\n",
    "#         else:\n",
    "#             best = top_1[\"stats\"][top_1.score.sort_values().index]\n",
    "#     else:\n",
    "#          best = top[\"stats\"][0]\n",
    "#     dt = tree.DecisionTreeClassifier(criterion = best[\"criterion\"],max_depth = best[\"max_depth\"],\n",
    "#                                     min_samples_leaf = best[\"min_samples_leaf\"])\n",
    "#     return dt.fit(X_train,y_train)\n"
   ]
  },
  {
   "cell_type": "code",
   "execution_count": 9,
   "metadata": {
    "pycharm": {
     "name": "#%%\n"
    }
   },
   "outputs": [],
   "source": [
    "from dt import DT"
   ]
  },
  {
   "cell_type": "code",
   "execution_count": 10,
   "metadata": {
    "pycharm": {
     "name": "#%%\n"
    }
   },
   "outputs": [
    {
     "ename": "ValueError",
     "evalue": "could not convert string to float: 'Ring Alarm 14-piece kit (2nd Gen) – home security system with optional 24/7 professional monitoring – Works with Alexa'",
     "output_type": "error",
     "traceback": [
      "\u001B[0;31m---------------------------------------------------------------------------\u001B[0m",
      "\u001B[0;31mValueError\u001B[0m                                Traceback (most recent call last)",
      "\u001B[0;32m/var/folders/v_/9v03td7116b7wyjmx3fmzbpm0000gn/T/ipykernel_30088/1196002334.py\u001B[0m in \u001B[0;36m<module>\u001B[0;34m\u001B[0m\n\u001B[0;32m----> 1\u001B[0;31m \u001B[0mdecsion\u001B[0m \u001B[0;34m=\u001B[0m \u001B[0mDT\u001B[0m\u001B[0;34m(\u001B[0m\u001B[0mdata_x\u001B[0m\u001B[0;34m,\u001B[0m\u001B[0mdata_y\u001B[0m\u001B[0;34m)\u001B[0m\u001B[0;34m\u001B[0m\u001B[0;34m\u001B[0m\u001B[0m\n\u001B[0m\u001B[1;32m      2\u001B[0m \u001B[0mbob\u001B[0m \u001B[0;34m=\u001B[0m \u001B[0mdecsion\u001B[0m\u001B[0;34m.\u001B[0m\u001B[0maccuracy\u001B[0m\u001B[0;34m(\u001B[0m\u001B[0;34m)\u001B[0m\u001B[0;34m\u001B[0m\u001B[0;34m\u001B[0m\u001B[0m\n\u001B[1;32m      3\u001B[0m \u001B[0mbob\u001B[0m\u001B[0;34m.\u001B[0m\u001B[0mscore\u001B[0m\u001B[0;34m(\u001B[0m\u001B[0mX_test\u001B[0m\u001B[0;34m,\u001B[0m\u001B[0my_test\u001B[0m\u001B[0;34m)\u001B[0m\u001B[0;34m\u001B[0m\u001B[0;34m\u001B[0m\u001B[0m\n",
      "\u001B[0;32m~/Sync/youtube videos/december/decsion tree/dt.py\u001B[0m in \u001B[0;36m__init__\u001B[0;34m(self, criterion, max_depth, min_samples_leaf, train_size, *array)\u001B[0m\n\u001B[1;32m     11\u001B[0m         \u001B[0mself\u001B[0m\u001B[0;34m.\u001B[0m\u001B[0mX_train\u001B[0m\u001B[0;34m,\u001B[0m\u001B[0mself\u001B[0m\u001B[0;34m.\u001B[0m\u001B[0mX_test\u001B[0m\u001B[0;34m,\u001B[0m \u001B[0mself\u001B[0m\u001B[0;34m.\u001B[0m\u001B[0my_train\u001B[0m\u001B[0;34m,\u001B[0m\u001B[0mself\u001B[0m\u001B[0;34m.\u001B[0m\u001B[0my_test\u001B[0m \u001B[0;34m=\u001B[0m \u001B[0mtrain_test_split\u001B[0m\u001B[0;34m(\u001B[0m\u001B[0marray\u001B[0m\u001B[0;34m[\u001B[0m\u001B[0;36m0\u001B[0m\u001B[0;34m]\u001B[0m\u001B[0;34m,\u001B[0m\u001B[0marray\u001B[0m\u001B[0;34m[\u001B[0m\u001B[0;36m1\u001B[0m\u001B[0;34m]\u001B[0m\u001B[0;34m,\u001B[0m\u001B[0mtrain_size\u001B[0m\u001B[0;34m=\u001B[0m\u001B[0mtrain_size\u001B[0m\u001B[0;34m)\u001B[0m\u001B[0;34m\u001B[0m\u001B[0;34m\u001B[0m\u001B[0m\n\u001B[1;32m     12\u001B[0m         \u001B[0mlength_dt\u001B[0m \u001B[0;34m=\u001B[0m \u001B[0mtree\u001B[0m\u001B[0;34m.\u001B[0m\u001B[0mDecisionTreeClassifier\u001B[0m\u001B[0;34m(\u001B[0m\u001B[0;34m)\u001B[0m\u001B[0;34m\u001B[0m\u001B[0;34m\u001B[0m\u001B[0m\n\u001B[0;32m---> 13\u001B[0;31m         \u001B[0mlength_dt\u001B[0m\u001B[0;34m.\u001B[0m\u001B[0mfit\u001B[0m\u001B[0;34m(\u001B[0m\u001B[0mself\u001B[0m\u001B[0;34m.\u001B[0m\u001B[0mX_train\u001B[0m\u001B[0;34m,\u001B[0m\u001B[0mself\u001B[0m\u001B[0;34m.\u001B[0m\u001B[0my_train\u001B[0m\u001B[0;34m)\u001B[0m\u001B[0;34m\u001B[0m\u001B[0;34m\u001B[0m\u001B[0m\n\u001B[0m\u001B[1;32m     14\u001B[0m         \u001B[0mself\u001B[0m\u001B[0;34m.\u001B[0m\u001B[0munique\u001B[0m\u001B[0;34m,\u001B[0m \u001B[0mcounts\u001B[0m \u001B[0;34m=\u001B[0m \u001B[0mnp\u001B[0m\u001B[0;34m.\u001B[0m\u001B[0munique\u001B[0m\u001B[0;34m(\u001B[0m\u001B[0mself\u001B[0m\u001B[0;34m.\u001B[0m\u001B[0my_train\u001B[0m\u001B[0;34m,\u001B[0m \u001B[0mreturn_counts\u001B[0m\u001B[0;34m=\u001B[0m\u001B[0;32mTrue\u001B[0m\u001B[0;34m)\u001B[0m\u001B[0;34m\u001B[0m\u001B[0;34m\u001B[0m\u001B[0m\n\u001B[1;32m     15\u001B[0m         self.params_dt = {'criterion':['gini','entropy'],\n",
      "\u001B[0;32m/opt/homebrew/Caskroom/miniforge/base/lib/python3.9/site-packages/sklearn/tree/_classes.py\u001B[0m in \u001B[0;36mfit\u001B[0;34m(self, X, y, sample_weight, check_input, X_idx_sorted)\u001B[0m\n\u001B[1;32m    935\u001B[0m         \"\"\"\n\u001B[1;32m    936\u001B[0m \u001B[0;34m\u001B[0m\u001B[0m\n\u001B[0;32m--> 937\u001B[0;31m         super().fit(\n\u001B[0m\u001B[1;32m    938\u001B[0m             \u001B[0mX\u001B[0m\u001B[0;34m,\u001B[0m\u001B[0;34m\u001B[0m\u001B[0;34m\u001B[0m\u001B[0m\n\u001B[1;32m    939\u001B[0m             \u001B[0my\u001B[0m\u001B[0;34m,\u001B[0m\u001B[0;34m\u001B[0m\u001B[0;34m\u001B[0m\u001B[0m\n",
      "\u001B[0;32m/opt/homebrew/Caskroom/miniforge/base/lib/python3.9/site-packages/sklearn/tree/_classes.py\u001B[0m in \u001B[0;36mfit\u001B[0;34m(self, X, y, sample_weight, check_input, X_idx_sorted)\u001B[0m\n\u001B[1;32m    163\u001B[0m             \u001B[0mcheck_X_params\u001B[0m \u001B[0;34m=\u001B[0m \u001B[0mdict\u001B[0m\u001B[0;34m(\u001B[0m\u001B[0mdtype\u001B[0m\u001B[0;34m=\u001B[0m\u001B[0mDTYPE\u001B[0m\u001B[0;34m,\u001B[0m \u001B[0maccept_sparse\u001B[0m\u001B[0;34m=\u001B[0m\u001B[0;34m\"csc\"\u001B[0m\u001B[0;34m)\u001B[0m\u001B[0;34m\u001B[0m\u001B[0;34m\u001B[0m\u001B[0m\n\u001B[1;32m    164\u001B[0m             \u001B[0mcheck_y_params\u001B[0m \u001B[0;34m=\u001B[0m \u001B[0mdict\u001B[0m\u001B[0;34m(\u001B[0m\u001B[0mensure_2d\u001B[0m\u001B[0;34m=\u001B[0m\u001B[0;32mFalse\u001B[0m\u001B[0;34m,\u001B[0m \u001B[0mdtype\u001B[0m\u001B[0;34m=\u001B[0m\u001B[0;32mNone\u001B[0m\u001B[0;34m)\u001B[0m\u001B[0;34m\u001B[0m\u001B[0;34m\u001B[0m\u001B[0m\n\u001B[0;32m--> 165\u001B[0;31m             X, y = self._validate_data(\n\u001B[0m\u001B[1;32m    166\u001B[0m                 \u001B[0mX\u001B[0m\u001B[0;34m,\u001B[0m \u001B[0my\u001B[0m\u001B[0;34m,\u001B[0m \u001B[0mvalidate_separately\u001B[0m\u001B[0;34m=\u001B[0m\u001B[0;34m(\u001B[0m\u001B[0mcheck_X_params\u001B[0m\u001B[0;34m,\u001B[0m \u001B[0mcheck_y_params\u001B[0m\u001B[0;34m)\u001B[0m\u001B[0;34m\u001B[0m\u001B[0;34m\u001B[0m\u001B[0m\n\u001B[1;32m    167\u001B[0m             )\n",
      "\u001B[0;32m/opt/homebrew/Caskroom/miniforge/base/lib/python3.9/site-packages/sklearn/base.py\u001B[0m in \u001B[0;36m_validate_data\u001B[0;34m(self, X, y, reset, validate_separately, **check_params)\u001B[0m\n\u001B[1;32m    571\u001B[0m                 \u001B[0;31m# :(\u001B[0m\u001B[0;34m\u001B[0m\u001B[0;34m\u001B[0m\u001B[0m\n\u001B[1;32m    572\u001B[0m                 \u001B[0mcheck_X_params\u001B[0m\u001B[0;34m,\u001B[0m \u001B[0mcheck_y_params\u001B[0m \u001B[0;34m=\u001B[0m \u001B[0mvalidate_separately\u001B[0m\u001B[0;34m\u001B[0m\u001B[0;34m\u001B[0m\u001B[0m\n\u001B[0;32m--> 573\u001B[0;31m                 \u001B[0mX\u001B[0m \u001B[0;34m=\u001B[0m \u001B[0mcheck_array\u001B[0m\u001B[0;34m(\u001B[0m\u001B[0mX\u001B[0m\u001B[0;34m,\u001B[0m \u001B[0;34m**\u001B[0m\u001B[0mcheck_X_params\u001B[0m\u001B[0;34m)\u001B[0m\u001B[0;34m\u001B[0m\u001B[0;34m\u001B[0m\u001B[0m\n\u001B[0m\u001B[1;32m    574\u001B[0m                 \u001B[0my\u001B[0m \u001B[0;34m=\u001B[0m \u001B[0mcheck_array\u001B[0m\u001B[0;34m(\u001B[0m\u001B[0my\u001B[0m\u001B[0;34m,\u001B[0m \u001B[0;34m**\u001B[0m\u001B[0mcheck_y_params\u001B[0m\u001B[0;34m)\u001B[0m\u001B[0;34m\u001B[0m\u001B[0;34m\u001B[0m\u001B[0m\n\u001B[1;32m    575\u001B[0m             \u001B[0;32melse\u001B[0m\u001B[0;34m:\u001B[0m\u001B[0;34m\u001B[0m\u001B[0;34m\u001B[0m\u001B[0m\n",
      "\u001B[0;32m/opt/homebrew/Caskroom/miniforge/base/lib/python3.9/site-packages/sklearn/utils/validation.py\u001B[0m in \u001B[0;36mcheck_array\u001B[0;34m(array, accept_sparse, accept_large_sparse, dtype, order, copy, force_all_finite, ensure_2d, allow_nd, ensure_min_samples, ensure_min_features, estimator)\u001B[0m\n\u001B[1;32m    736\u001B[0m                     \u001B[0marray\u001B[0m \u001B[0;34m=\u001B[0m \u001B[0marray\u001B[0m\u001B[0;34m.\u001B[0m\u001B[0mastype\u001B[0m\u001B[0;34m(\u001B[0m\u001B[0mdtype\u001B[0m\u001B[0;34m,\u001B[0m \u001B[0mcasting\u001B[0m\u001B[0;34m=\u001B[0m\u001B[0;34m\"unsafe\"\u001B[0m\u001B[0;34m,\u001B[0m \u001B[0mcopy\u001B[0m\u001B[0;34m=\u001B[0m\u001B[0;32mFalse\u001B[0m\u001B[0;34m)\u001B[0m\u001B[0;34m\u001B[0m\u001B[0;34m\u001B[0m\u001B[0m\n\u001B[1;32m    737\u001B[0m                 \u001B[0;32melse\u001B[0m\u001B[0;34m:\u001B[0m\u001B[0;34m\u001B[0m\u001B[0;34m\u001B[0m\u001B[0m\n\u001B[0;32m--> 738\u001B[0;31m                     \u001B[0marray\u001B[0m \u001B[0;34m=\u001B[0m \u001B[0mnp\u001B[0m\u001B[0;34m.\u001B[0m\u001B[0masarray\u001B[0m\u001B[0;34m(\u001B[0m\u001B[0marray\u001B[0m\u001B[0;34m,\u001B[0m \u001B[0morder\u001B[0m\u001B[0;34m=\u001B[0m\u001B[0morder\u001B[0m\u001B[0;34m,\u001B[0m \u001B[0mdtype\u001B[0m\u001B[0;34m=\u001B[0m\u001B[0mdtype\u001B[0m\u001B[0;34m)\u001B[0m\u001B[0;34m\u001B[0m\u001B[0;34m\u001B[0m\u001B[0m\n\u001B[0m\u001B[1;32m    739\u001B[0m             \u001B[0;32mexcept\u001B[0m \u001B[0mComplexWarning\u001B[0m \u001B[0;32mas\u001B[0m \u001B[0mcomplex_warning\u001B[0m\u001B[0;34m:\u001B[0m\u001B[0;34m\u001B[0m\u001B[0;34m\u001B[0m\u001B[0m\n\u001B[1;32m    740\u001B[0m                 raise ValueError(\n",
      "\u001B[0;31mValueError\u001B[0m: could not convert string to float: 'Ring Alarm 14-piece kit (2nd Gen) – home security system with optional 24/7 professional monitoring – Works with Alexa'"
     ]
    }
   ],
   "source": [
    "decsion = DT(data_x,data_y)\n",
    "bob = decsion.accuracy()\n",
    "bob.score(X_test,y_test)"
   ]
  },
  {
   "cell_type": "code",
   "execution_count": 14,
   "metadata": {
    "pycharm": {
     "name": "#%%\n"
    }
   },
   "outputs": [],
   "source": []
  }
 ],
 "metadata": {
  "kernelspec": {
   "display_name": "Python 3 (ipykernel)",
   "language": "python",
   "name": "python3"
  },
  "language_info": {
   "codemirror_mode": {
    "name": "ipython",
    "version": 3
   },
   "file_extension": ".py",
   "mimetype": "text/x-python",
   "name": "python",
   "nbconvert_exporter": "python",
   "pygments_lexer": "ipython3",
   "version": "3.9.7"
  }
 },
 "nbformat": 4,
 "nbformat_minor": 1
}