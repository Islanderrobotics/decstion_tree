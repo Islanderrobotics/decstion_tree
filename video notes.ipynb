{
 "cells": [
  {
   "cell_type": "code",
   "execution_count": 59,
   "metadata": {
    "collapsed": true
   },
   "outputs": [],
   "source": [
    "import islanders as ir\n",
    "import irdatacleaning as ird\n",
    "import pandas as pd\n",
    "import pandas as ps\n",
    "import numpy as np\n",
    "from sklearn.feature_extraction.text import CountVectorizer,TfidfVectorizer\n",
    "from sklearn.model_selection import train_test_split\n",
    "from sklearn.naive_bayes import GaussianNB\n",
    "from sklearn import tree"
   ]
  },
  {
   "cell_type": "code",
   "execution_count": 60,
   "outputs": [],
   "source": [
    "marvel_data = ir.datasets(\"cleaned rotten tomatoes\")"
   ],
   "metadata": {
    "collapsed": false,
    "pycharm": {
     "name": "#%%\n"
    }
   }
  },
  {
   "cell_type": "code",
   "execution_count": 61,
   "outputs": [
    {
     "name": "stdout",
     "output_type": "stream",
     "text": [
      "<class 'pandas.core.frame.DataFrame'>\n",
      "Int64Index: 100 entries, 0 to 99\n",
      "Data columns (total 10 columns):\n",
      " #   Column             Non-Null Count  Dtype \n",
      "---  ------             --------------  ----- \n",
      " 0   names              100 non-null    object\n",
      " 1   tomatometer        100 non-null    int64 \n",
      " 2   number_of_reviews  100 non-null    int64 \n",
      " 3   year               100 non-null    int64 \n",
      " 4   genre              100 non-null    object\n",
      " 5   audience_score     100 non-null    int64 \n",
      " 6   audience_count     100 non-null    object\n",
      " 7   critics_count      100 non-null    int64 \n",
      " 8   minutes            100 non-null    int64 \n",
      " 9   part_of_the_mcu    100 non-null    int64 \n",
      "dtypes: int64(7), object(3)\n",
      "memory usage: 8.6+ KB\n"
     ]
    }
   ],
   "source": [
    "marvel_data.info()"
   ],
   "metadata": {
    "collapsed": false,
    "pycharm": {
     "name": "#%%\n"
    }
   }
  },
  {
   "cell_type": "markdown",
   "source": [
    "the atribute column we will be using is the audience_score but we will be making a couple changes"
   ],
   "metadata": {
    "collapsed": false
   }
  },
  {
   "cell_type": "code",
   "execution_count": 62,
   "outputs": [],
   "source": [
    "data = {\n",
    "    \"audience_score\":[]\n",
    "}"
   ],
   "metadata": {
    "collapsed": false,
    "pycharm": {
     "name": "#%%\n"
    }
   }
  },
  {
   "cell_type": "code",
   "execution_count": 63,
   "outputs": [],
   "source": [
    "for i in marvel_data.audience_score:\n",
    "    # if i <=10:\n",
    "    #     data[\"audience_score\"].append(\"<=10\")\n",
    "    # elif i>10 and i<=20:\n",
    "    #     data[\"audience_score\"].append(\">10 but <= 20\")\n",
    "    # elif i>20 and i<=30:\n",
    "    #     data[\"audience_score\"].append(\">20 but <= 30\")\n",
    "    # elif i>30 and i<=40:\n",
    "    #     data[\"audience_score\"].append(\">30 but <=40\")\n",
    "    # elif i>40 and i<=50:\n",
    "    #     data[\"audience_score\"].append(\">40 but <=50\")\n",
    "    if i>50 and i<=60:\n",
    "        data[\"audience_score\"].append(\">50 but <=60\")\n",
    "    elif i>60 and i<=70:\n",
    "        data[\"audience_score\"].append(\">60 but <=70\")\n",
    "    elif i>70 and i<=80:\n",
    "        data[\"audience_score\"].append(\">70 but <=80\")\n",
    "    elif i > 80 and i<=90:\n",
    "        data[\"audience_score\"].append(\">80 but <=90\")\n",
    "    else:\n",
    "        data[\"audience_score\"].append(\">90 but <=100\")"
   ],
   "metadata": {
    "collapsed": false,
    "pycharm": {
     "name": "#%%\n"
    }
   }
  },
  {
   "cell_type": "code",
   "execution_count": 64,
   "outputs": [
    {
     "data": {
      "text/plain": "{'audience_score': ['>90 but <=100',\n  '>80 but <=90',\n  '>80 but <=90',\n  '>90 but <=100',\n  '>70 but <=80',\n  '>80 but <=90',\n  '>80 but <=90',\n  '>90 but <=100',\n  '>90 but <=100',\n  '>50 but <=60',\n  '>90 but <=100',\n  '>70 but <=80',\n  '>80 but <=90',\n  '>80 but <=90',\n  '>80 but <=90',\n  '>80 but <=90',\n  '>90 but <=100',\n  '>80 but <=90',\n  '>90 but <=100',\n  '>90 but <=100',\n  '>70 but <=80',\n  '>90 but <=100',\n  '>80 but <=90',\n  '>90 but <=100',\n  '>70 but <=80',\n  '>80 but <=90',\n  '>70 but <=80',\n  '>80 but <=90',\n  '>80 but <=90',\n  '>80 but <=90',\n  '>90 but <=100',\n  '>80 but <=90',\n  '>70 but <=80',\n  '>80 but <=90',\n  '>90 but <=100',\n  '>90 but <=100',\n  '>80 but <=90',\n  '>90 but <=100',\n  '>90 but <=100',\n  '>70 but <=80',\n  '>80 but <=90',\n  '>90 but <=100',\n  '>80 but <=90',\n  '>80 but <=90',\n  '>90 but <=100',\n  '>90 but <=100',\n  '>70 but <=80',\n  '>90 but <=100',\n  '>90 but <=100',\n  '>80 but <=90',\n  '>90 but <=100',\n  '>60 but <=70',\n  '>90 but <=100',\n  '>80 but <=90',\n  '>70 but <=80',\n  '>80 but <=90',\n  '>70 but <=80',\n  '>80 but <=90',\n  '>90 but <=100',\n  '>80 but <=90',\n  '>90 but <=100',\n  '>90 but <=100',\n  '>70 but <=80',\n  '>90 but <=100',\n  '>70 but <=80',\n  '>70 but <=80',\n  '>90 but <=100',\n  '>80 but <=90',\n  '>60 but <=70',\n  '>80 but <=90',\n  '>80 but <=90',\n  '>70 but <=80',\n  '>80 but <=90',\n  '>90 but <=100',\n  '>80 but <=90',\n  '>90 but <=100',\n  '>80 but <=90',\n  '>80 but <=90',\n  '>90 but <=100',\n  '>90 but <=100',\n  '>90 but <=100',\n  '>80 but <=90',\n  '>80 but <=90',\n  '>90 but <=100',\n  '>90 but <=100',\n  '>80 but <=90',\n  '>80 but <=90',\n  '>80 but <=90',\n  '>70 but <=80',\n  '>80 but <=90',\n  '>60 but <=70',\n  '>80 but <=90',\n  '>90 but <=100',\n  '>90 but <=100',\n  '>80 but <=90',\n  '>50 but <=60',\n  '>80 but <=90',\n  '>90 but <=100',\n  '>90 but <=100',\n  '>80 but <=90']}"
     },
     "execution_count": 64,
     "metadata": {},
     "output_type": "execute_result"
    }
   ],
   "source": [
    "data"
   ],
   "metadata": {
    "collapsed": false,
    "pycharm": {
     "name": "#%%\n"
    }
   }
  },
  {
   "cell_type": "code",
   "execution_count": 65,
   "outputs": [],
   "source": [
    "marvel_data[\"audience_score\"] = data[\"audience_score\"]"
   ],
   "metadata": {
    "collapsed": false,
    "pycharm": {
     "name": "#%%\n"
    }
   }
  },
  {
   "cell_type": "code",
   "execution_count": 66,
   "outputs": [
    {
     "name": "stdout",
     "output_type": "stream",
     "text": [
      "<class 'pandas.core.frame.DataFrame'>\n",
      "Int64Index: 100 entries, 0 to 99\n",
      "Data columns (total 10 columns):\n",
      " #   Column             Non-Null Count  Dtype \n",
      "---  ------             --------------  ----- \n",
      " 0   names              100 non-null    object\n",
      " 1   tomatometer        100 non-null    int64 \n",
      " 2   number_of_reviews  100 non-null    int64 \n",
      " 3   year               100 non-null    int64 \n",
      " 4   genre              100 non-null    object\n",
      " 5   audience_score     100 non-null    object\n",
      " 6   audience_count     100 non-null    object\n",
      " 7   critics_count      100 non-null    int64 \n",
      " 8   minutes            100 non-null    int64 \n",
      " 9   part_of_the_mcu    100 non-null    int64 \n",
      "dtypes: int64(6), object(4)\n",
      "memory usage: 8.6+ KB\n"
     ]
    }
   ],
   "source": [
    "marvel_data.info()"
   ],
   "metadata": {
    "collapsed": false,
    "pycharm": {
     "name": "#%%\n"
    }
   }
  },
  {
   "cell_type": "code",
   "execution_count": 67,
   "outputs": [],
   "source": [
    "X_data = pd.DataFrame(marvel_data.drop(columns = \"audience_score\"))"
   ],
   "metadata": {
    "collapsed": false,
    "pycharm": {
     "name": "#%%\n"
    }
   }
  },
  {
   "cell_type": "code",
   "execution_count": 68,
   "outputs": [],
   "source": [
    "y_data = marvel_data.audience_score"
   ],
   "metadata": {
    "collapsed": false,
    "pycharm": {
     "name": "#%%\n"
    }
   }
  },
  {
   "cell_type": "code",
   "execution_count": 69,
   "outputs": [],
   "source": [
    "counts = TfidfVectorizer()\n",
    "name_count = counts.fit_transform(X_data[\"names\"])"
   ],
   "metadata": {
    "collapsed": false,
    "pycharm": {
     "name": "#%%\n"
    }
   }
  },
  {
   "cell_type": "code",
   "execution_count": 70,
   "outputs": [],
   "source": [
    "name_pd = pd.DataFrame(data = name_count.toarray(), columns =counts.vocabulary_)\n",
    "X_data.drop(columns = \"names\",inplace = True)"
   ],
   "metadata": {
    "collapsed": false,
    "pycharm": {
     "name": "#%%\n"
    }
   }
  },
  {
   "cell_type": "code",
   "execution_count": 71,
   "outputs": [
    {
     "data": {
      "text/plain": "     it  happened  one  night  the  wizard   of   oz  citizen  kane  ...  \\\n0   0.0       0.0  0.0    0.0  0.0     0.0  0.0  0.0      0.0   0.0  ...   \n1   0.0       0.0  0.0    0.0  0.0     0.0  0.0  0.0      0.0   0.0  ...   \n2   0.0       0.0  0.0    0.0  0.0     0.0  0.0  0.0      0.0   0.0  ...   \n3   0.0       0.0  0.0    0.0  0.0     0.0  0.0  0.0      0.0   0.0  ...   \n4   0.0       0.0  0.0    0.0  0.0     0.0  0.0  0.0      0.0   0.0  ...   \n..  ...       ...  ...    ...  ...     ...  ...  ...      ...   ...  ...   \n95  0.0       0.0  0.0    0.0  0.0     0.0  0.0  0.5      0.0   0.0  ...   \n96  0.0       0.0  0.0    0.0  0.0     0.0  0.0  0.0      0.0   0.0  ...   \n97  0.0       0.0  0.0    0.0  0.0     0.0  0.0  0.0      0.0   0.0  ...   \n98  0.0       0.0  0.0    0.0  0.0     0.0  0.0  0.0      0.0   0.0  ...   \n99  0.0       0.0  0.0    0.0  0.0     0.0  0.0  0.0      0.0   0.0  ...   \n\n    sometimes  always  homecoming  bridge     river  kwai  pain  glory  top  \\\n0         0.0     0.0         0.0     0.0  0.000000   0.0   0.0    0.0  0.0   \n1         0.0     0.0         0.0     0.0  0.617375   0.0   0.0    0.0  0.0   \n2         0.0     0.0         0.0     0.0  0.000000   0.0   0.0    0.0  0.0   \n3         0.0     0.0         0.0     0.0  0.000000   0.0   0.0    0.0  0.0   \n4         0.0     0.0         0.0     0.0  0.000000   0.0   0.0    0.0  0.0   \n..        ...     ...         ...     ...       ...   ...   ...    ...  ...   \n95        0.0     0.0         0.0     0.0  0.000000   0.0   0.0    0.0  0.0   \n96        0.0     0.0         0.0     0.0  0.000000   0.0   0.0    0.0  0.0   \n97        0.0     0.0         0.0     0.0  0.000000   0.0   0.0    0.0  0.0   \n98        0.0     0.0         0.0     0.0  0.000000   0.0   0.0    0.0  0.0   \n99        0.0     0.0         0.0     0.0  0.000000   0.0   0.0    0.0  0.0   \n\n    hat  \n0   0.0  \n1   0.0  \n2   0.0  \n3   0.0  \n4   0.0  \n..  ...  \n95  0.0  \n96  0.0  \n97  0.0  \n98  0.0  \n99  0.0  \n\n[100 rows x 197 columns]",
      "text/html": "<div>\n<style scoped>\n    .dataframe tbody tr th:only-of-type {\n        vertical-align: middle;\n    }\n\n    .dataframe tbody tr th {\n        vertical-align: top;\n    }\n\n    .dataframe thead th {\n        text-align: right;\n    }\n</style>\n<table border=\"1\" class=\"dataframe\">\n  <thead>\n    <tr style=\"text-align: right;\">\n      <th></th>\n      <th>it</th>\n      <th>happened</th>\n      <th>one</th>\n      <th>night</th>\n      <th>the</th>\n      <th>wizard</th>\n      <th>of</th>\n      <th>oz</th>\n      <th>citizen</th>\n      <th>kane</th>\n      <th>...</th>\n      <th>sometimes</th>\n      <th>always</th>\n      <th>homecoming</th>\n      <th>bridge</th>\n      <th>river</th>\n      <th>kwai</th>\n      <th>pain</th>\n      <th>glory</th>\n      <th>top</th>\n      <th>hat</th>\n    </tr>\n  </thead>\n  <tbody>\n    <tr>\n      <th>0</th>\n      <td>0.0</td>\n      <td>0.0</td>\n      <td>0.0</td>\n      <td>0.0</td>\n      <td>0.0</td>\n      <td>0.0</td>\n      <td>0.0</td>\n      <td>0.0</td>\n      <td>0.0</td>\n      <td>0.0</td>\n      <td>...</td>\n      <td>0.0</td>\n      <td>0.0</td>\n      <td>0.0</td>\n      <td>0.0</td>\n      <td>0.000000</td>\n      <td>0.0</td>\n      <td>0.0</td>\n      <td>0.0</td>\n      <td>0.0</td>\n      <td>0.0</td>\n    </tr>\n    <tr>\n      <th>1</th>\n      <td>0.0</td>\n      <td>0.0</td>\n      <td>0.0</td>\n      <td>0.0</td>\n      <td>0.0</td>\n      <td>0.0</td>\n      <td>0.0</td>\n      <td>0.0</td>\n      <td>0.0</td>\n      <td>0.0</td>\n      <td>...</td>\n      <td>0.0</td>\n      <td>0.0</td>\n      <td>0.0</td>\n      <td>0.0</td>\n      <td>0.617375</td>\n      <td>0.0</td>\n      <td>0.0</td>\n      <td>0.0</td>\n      <td>0.0</td>\n      <td>0.0</td>\n    </tr>\n    <tr>\n      <th>2</th>\n      <td>0.0</td>\n      <td>0.0</td>\n      <td>0.0</td>\n      <td>0.0</td>\n      <td>0.0</td>\n      <td>0.0</td>\n      <td>0.0</td>\n      <td>0.0</td>\n      <td>0.0</td>\n      <td>0.0</td>\n      <td>...</td>\n      <td>0.0</td>\n      <td>0.0</td>\n      <td>0.0</td>\n      <td>0.0</td>\n      <td>0.000000</td>\n      <td>0.0</td>\n      <td>0.0</td>\n      <td>0.0</td>\n      <td>0.0</td>\n      <td>0.0</td>\n    </tr>\n    <tr>\n      <th>3</th>\n      <td>0.0</td>\n      <td>0.0</td>\n      <td>0.0</td>\n      <td>0.0</td>\n      <td>0.0</td>\n      <td>0.0</td>\n      <td>0.0</td>\n      <td>0.0</td>\n      <td>0.0</td>\n      <td>0.0</td>\n      <td>...</td>\n      <td>0.0</td>\n      <td>0.0</td>\n      <td>0.0</td>\n      <td>0.0</td>\n      <td>0.000000</td>\n      <td>0.0</td>\n      <td>0.0</td>\n      <td>0.0</td>\n      <td>0.0</td>\n      <td>0.0</td>\n    </tr>\n    <tr>\n      <th>4</th>\n      <td>0.0</td>\n      <td>0.0</td>\n      <td>0.0</td>\n      <td>0.0</td>\n      <td>0.0</td>\n      <td>0.0</td>\n      <td>0.0</td>\n      <td>0.0</td>\n      <td>0.0</td>\n      <td>0.0</td>\n      <td>...</td>\n      <td>0.0</td>\n      <td>0.0</td>\n      <td>0.0</td>\n      <td>0.0</td>\n      <td>0.000000</td>\n      <td>0.0</td>\n      <td>0.0</td>\n      <td>0.0</td>\n      <td>0.0</td>\n      <td>0.0</td>\n    </tr>\n    <tr>\n      <th>...</th>\n      <td>...</td>\n      <td>...</td>\n      <td>...</td>\n      <td>...</td>\n      <td>...</td>\n      <td>...</td>\n      <td>...</td>\n      <td>...</td>\n      <td>...</td>\n      <td>...</td>\n      <td>...</td>\n      <td>...</td>\n      <td>...</td>\n      <td>...</td>\n      <td>...</td>\n      <td>...</td>\n      <td>...</td>\n      <td>...</td>\n      <td>...</td>\n      <td>...</td>\n      <td>...</td>\n    </tr>\n    <tr>\n      <th>95</th>\n      <td>0.0</td>\n      <td>0.0</td>\n      <td>0.0</td>\n      <td>0.0</td>\n      <td>0.0</td>\n      <td>0.0</td>\n      <td>0.0</td>\n      <td>0.5</td>\n      <td>0.0</td>\n      <td>0.0</td>\n      <td>...</td>\n      <td>0.0</td>\n      <td>0.0</td>\n      <td>0.0</td>\n      <td>0.0</td>\n      <td>0.000000</td>\n      <td>0.0</td>\n      <td>0.0</td>\n      <td>0.0</td>\n      <td>0.0</td>\n      <td>0.0</td>\n    </tr>\n    <tr>\n      <th>96</th>\n      <td>0.0</td>\n      <td>0.0</td>\n      <td>0.0</td>\n      <td>0.0</td>\n      <td>0.0</td>\n      <td>0.0</td>\n      <td>0.0</td>\n      <td>0.0</td>\n      <td>0.0</td>\n      <td>0.0</td>\n      <td>...</td>\n      <td>0.0</td>\n      <td>0.0</td>\n      <td>0.0</td>\n      <td>0.0</td>\n      <td>0.000000</td>\n      <td>0.0</td>\n      <td>0.0</td>\n      <td>0.0</td>\n      <td>0.0</td>\n      <td>0.0</td>\n    </tr>\n    <tr>\n      <th>97</th>\n      <td>0.0</td>\n      <td>0.0</td>\n      <td>0.0</td>\n      <td>0.0</td>\n      <td>0.0</td>\n      <td>0.0</td>\n      <td>0.0</td>\n      <td>0.0</td>\n      <td>0.0</td>\n      <td>0.0</td>\n      <td>...</td>\n      <td>0.0</td>\n      <td>0.0</td>\n      <td>0.0</td>\n      <td>0.0</td>\n      <td>0.000000</td>\n      <td>0.0</td>\n      <td>0.0</td>\n      <td>0.0</td>\n      <td>0.0</td>\n      <td>0.0</td>\n    </tr>\n    <tr>\n      <th>98</th>\n      <td>0.0</td>\n      <td>0.0</td>\n      <td>0.0</td>\n      <td>0.0</td>\n      <td>0.0</td>\n      <td>0.0</td>\n      <td>0.0</td>\n      <td>0.0</td>\n      <td>0.0</td>\n      <td>0.0</td>\n      <td>...</td>\n      <td>0.0</td>\n      <td>0.0</td>\n      <td>0.0</td>\n      <td>0.0</td>\n      <td>0.000000</td>\n      <td>0.0</td>\n      <td>0.0</td>\n      <td>0.0</td>\n      <td>0.0</td>\n      <td>0.0</td>\n    </tr>\n    <tr>\n      <th>99</th>\n      <td>0.0</td>\n      <td>0.0</td>\n      <td>0.0</td>\n      <td>0.0</td>\n      <td>0.0</td>\n      <td>0.0</td>\n      <td>0.0</td>\n      <td>0.0</td>\n      <td>0.0</td>\n      <td>0.0</td>\n      <td>...</td>\n      <td>0.0</td>\n      <td>0.0</td>\n      <td>0.0</td>\n      <td>0.0</td>\n      <td>0.000000</td>\n      <td>0.0</td>\n      <td>0.0</td>\n      <td>0.0</td>\n      <td>0.0</td>\n      <td>0.0</td>\n    </tr>\n  </tbody>\n</table>\n<p>100 rows × 197 columns</p>\n</div>"
     },
     "execution_count": 71,
     "metadata": {},
     "output_type": "execute_result"
    }
   ],
   "source": [
    "name_pd"
   ],
   "metadata": {
    "collapsed": false,
    "pycharm": {
     "name": "#%%\n"
    }
   }
  },
  {
   "cell_type": "code",
   "execution_count": 72,
   "outputs": [],
   "source": [
    "genre_count = counts.fit_transform(X_data[\"genre\"])"
   ],
   "metadata": {
    "collapsed": false,
    "pycharm": {
     "name": "#%%\n"
    }
   }
  },
  {
   "cell_type": "code",
   "execution_count": 73,
   "outputs": [],
   "source": [
    "genre_pd = pd.DataFrame(data = genre_count.toarray(),columns = counts.vocabulary_)"
   ],
   "metadata": {
    "collapsed": false,
    "pycharm": {
     "name": "#%%\n"
    }
   }
  },
  {
   "cell_type": "code",
   "execution_count": 74,
   "outputs": [],
   "source": [
    "genre_pd.columns\n",
    "X_data.drop(columns = \"genre\",inplace = True)"
   ],
   "metadata": {
    "collapsed": false,
    "pycharm": {
     "name": "#%%\n"
    }
   }
  },
  {
   "cell_type": "code",
   "execution_count": 75,
   "outputs": [],
   "source": [
    "audience_count = counts.fit_transform(X_data[\"audience_count\"]).toarray()"
   ],
   "metadata": {
    "collapsed": false,
    "pycharm": {
     "name": "#%%\n"
    }
   }
  },
  {
   "cell_type": "code",
   "execution_count": 76,
   "outputs": [],
   "source": [
    "audience_count_pd = pd.DataFrame(data =audience_count,columns= counts.vocabulary_)"
   ],
   "metadata": {
    "collapsed": false,
    "pycharm": {
     "name": "#%%\n"
    }
   }
  },
  {
   "cell_type": "code",
   "execution_count": 77,
   "outputs": [],
   "source": [
    "X_data.drop(columns = \"audience_count\",inplace = True)"
   ],
   "metadata": {
    "collapsed": false,
    "pycharm": {
     "name": "#%%\n"
    }
   }
  },
  {
   "cell_type": "code",
   "execution_count": 78,
   "outputs": [],
   "source": [
    "NLP_x_data = np.array(pd.concat([X_data,name_pd,genre_pd,audience_count_pd],axis=1))"
   ],
   "metadata": {
    "collapsed": false,
    "pycharm": {
     "name": "#%%\n"
    }
   }
  },
  {
   "cell_type": "code",
   "execution_count": 79,
   "outputs": [
    {
     "data": {
      "text/plain": "array([[9.90000000e+01, 9.80000000e+01, 1.93400000e+03, ...,\n        0.00000000e+00, 0.00000000e+00, 0.00000000e+00],\n       [9.80000000e+01, 1.60000000e+02, 1.93900000e+03, ...,\n        9.49667355e-01, 0.00000000e+00, 0.00000000e+00],\n       [9.90000000e+01, 1.20000000e+02, 1.94100000e+03, ...,\n        0.00000000e+00, 0.00000000e+00, 0.00000000e+00],\n       ...,\n       [9.60000000e+01, 9.30000000e+01, 1.95700000e+03, ...,\n        0.00000000e+00, 9.09326215e-01, 0.00000000e+00],\n       [9.60000000e+01, 2.99000000e+02, 2.01900000e+03, ...,\n        1.00000000e+00, 0.00000000e+00, 0.00000000e+00],\n       [1.00000000e+02, 4.20000000e+01, 1.93500000e+03, ...,\n        0.00000000e+00, 0.00000000e+00, 0.00000000e+00]])"
     },
     "execution_count": 79,
     "metadata": {},
     "output_type": "execute_result"
    }
   ],
   "source": [
    "NLP_x_data"
   ],
   "metadata": {
    "collapsed": false,
    "pycharm": {
     "name": "#%%\n"
    }
   }
  },
  {
   "cell_type": "code",
   "execution_count": 80,
   "outputs": [],
   "source": [
    "gnb = GaussianNB()\n",
    "X_train,X_test,y_train,y_test = train_test_split(NLP_x_data,\n",
    "                                                 y_data,\n",
    "                                                 train_size=0.2)"
   ],
   "metadata": {
    "collapsed": false,
    "pycharm": {
     "name": "#%%\n"
    }
   }
  },
  {
   "cell_type": "code",
   "execution_count": 81,
   "outputs": [
    {
     "data": {
      "text/plain": "GaussianNB()"
     },
     "execution_count": 81,
     "metadata": {},
     "output_type": "execute_result"
    }
   ],
   "source": [
    "gnb.fit(X_train,y_train)"
   ],
   "metadata": {
    "collapsed": false,
    "pycharm": {
     "name": "#%%\n"
    }
   }
  },
  {
   "cell_type": "code",
   "execution_count": 82,
   "outputs": [
    {
     "data": {
      "text/plain": "0.425"
     },
     "execution_count": 82,
     "metadata": {},
     "output_type": "execute_result"
    }
   ],
   "source": [
    "gnb.score(X_test,y_test)"
   ],
   "metadata": {
    "collapsed": false,
    "pycharm": {
     "name": "#%%\n"
    }
   }
  },
  {
   "cell_type": "code",
   "execution_count": 83,
   "outputs": [],
   "source": [
    "from sklearn.ensemble import RandomForestClassifier\n",
    "rdt = RandomForestClassifier()"
   ],
   "metadata": {
    "collapsed": false,
    "pycharm": {
     "name": "#%%\n"
    }
   }
  },
  {
   "cell_type": "code",
   "execution_count": 86,
   "outputs": [
    {
     "data": {
      "text/plain": "RandomForestClassifier()"
     },
     "execution_count": 86,
     "metadata": {},
     "output_type": "execute_result"
    }
   ],
   "source": [
    "rdt.fit(NLP_x_data,y_data)"
   ],
   "metadata": {
    "collapsed": false,
    "pycharm": {
     "name": "#%%\n"
    }
   }
  },
  {
   "cell_type": "code",
   "execution_count": 87,
   "outputs": [
    {
     "data": {
      "text/plain": "1.0"
     },
     "execution_count": 87,
     "metadata": {},
     "output_type": "execute_result"
    }
   ],
   "source": [
    "rdt.score(X_test,y_test)"
   ],
   "metadata": {
    "collapsed": false,
    "pycharm": {
     "name": "#%%\n"
    }
   }
  },
  {
   "cell_type": "code",
   "execution_count": 92,
   "outputs": [],
   "source": [
    "decsion = ir.DT(NLP_x_data,y_data,train_size=1)"
   ],
   "metadata": {
    "collapsed": false,
    "pycharm": {
     "name": "#%%\n"
    }
   }
  },
  {
   "cell_type": "code",
   "execution_count": 93,
   "outputs": [
    {
     "ename": "ValueError",
     "evalue": "Parameter values for parameter (max_depth) need to be a non-empty sequence.",
     "output_type": "error",
     "traceback": [
      "\u001B[0;31m---------------------------------------------------------------------------\u001B[0m",
      "\u001B[0;31mValueError\u001B[0m                                Traceback (most recent call last)",
      "\u001B[0;32m/var/folders/v_/9v03td7116b7wyjmx3fmzbpm0000gn/T/ipykernel_31571/663240062.py\u001B[0m in \u001B[0;36m<module>\u001B[0;34m\u001B[0m\n\u001B[0;32m----> 1\u001B[0;31m \u001B[0mdt\u001B[0m \u001B[0;34m=\u001B[0m \u001B[0mdecsion\u001B[0m\u001B[0;34m.\u001B[0m\u001B[0macc\u001B[0m\u001B[0;34m(\u001B[0m\u001B[0;34m)\u001B[0m\u001B[0;34m\u001B[0m\u001B[0;34m\u001B[0m\u001B[0m\n\u001B[0m",
      "\u001B[0;32m/opt/homebrew/Caskroom/miniforge/base/lib/python3.9/site-packages/islanders/dt.py\u001B[0m in \u001B[0;36macc\u001B[0;34m(self)\u001B[0m\n\u001B[1;32m     22\u001B[0m     \u001B[0;32mdef\u001B[0m \u001B[0macc\u001B[0m\u001B[0;34m(\u001B[0m\u001B[0mself\u001B[0m\u001B[0;34m)\u001B[0m\u001B[0;34m:\u001B[0m\u001B[0;34m\u001B[0m\u001B[0;34m\u001B[0m\u001B[0m\n\u001B[1;32m     23\u001B[0m         \u001B[0mdt\u001B[0m \u001B[0;34m=\u001B[0m \u001B[0mtree\u001B[0m\u001B[0;34m.\u001B[0m\u001B[0mDecisionTreeClassifier\u001B[0m\u001B[0;34m(\u001B[0m\u001B[0;34m)\u001B[0m\u001B[0;34m\u001B[0m\u001B[0;34m\u001B[0m\u001B[0m\n\u001B[0;32m---> 24\u001B[0;31m         \u001B[0mdt_opt\u001B[0m \u001B[0;34m=\u001B[0m \u001B[0mmodel_selection\u001B[0m\u001B[0;34m.\u001B[0m\u001B[0mGridSearchCV\u001B[0m\u001B[0;34m(\u001B[0m\u001B[0mdt\u001B[0m\u001B[0;34m,\u001B[0m\u001B[0mself\u001B[0m\u001B[0;34m.\u001B[0m\u001B[0mparams_dt\u001B[0m\u001B[0;34m,\u001B[0m\u001B[0mcv\u001B[0m \u001B[0;34m=\u001B[0m \u001B[0;36m4\u001B[0m\u001B[0;34m)\u001B[0m\u001B[0;34m\u001B[0m\u001B[0;34m\u001B[0m\u001B[0m\n\u001B[0m\u001B[1;32m     25\u001B[0m \u001B[0;34m\u001B[0m\u001B[0m\n\u001B[1;32m     26\u001B[0m \u001B[0;34m\u001B[0m\u001B[0m\n",
      "\u001B[0;32m/opt/homebrew/Caskroom/miniforge/base/lib/python3.9/site-packages/sklearn/model_selection/_search.py\u001B[0m in \u001B[0;36m__init__\u001B[0;34m(self, estimator, param_grid, scoring, n_jobs, refit, cv, verbose, pre_dispatch, error_score, return_train_score)\u001B[0m\n\u001B[1;32m   1386\u001B[0m         )\n\u001B[1;32m   1387\u001B[0m         \u001B[0mself\u001B[0m\u001B[0;34m.\u001B[0m\u001B[0mparam_grid\u001B[0m \u001B[0;34m=\u001B[0m \u001B[0mparam_grid\u001B[0m\u001B[0;34m\u001B[0m\u001B[0;34m\u001B[0m\u001B[0m\n\u001B[0;32m-> 1388\u001B[0;31m         \u001B[0m_check_param_grid\u001B[0m\u001B[0;34m(\u001B[0m\u001B[0mparam_grid\u001B[0m\u001B[0;34m)\u001B[0m\u001B[0;34m\u001B[0m\u001B[0;34m\u001B[0m\u001B[0m\n\u001B[0m\u001B[1;32m   1389\u001B[0m \u001B[0;34m\u001B[0m\u001B[0m\n\u001B[1;32m   1390\u001B[0m     \u001B[0;32mdef\u001B[0m \u001B[0m_run_search\u001B[0m\u001B[0;34m(\u001B[0m\u001B[0mself\u001B[0m\u001B[0;34m,\u001B[0m \u001B[0mevaluate_candidates\u001B[0m\u001B[0;34m)\u001B[0m\u001B[0;34m:\u001B[0m\u001B[0;34m\u001B[0m\u001B[0;34m\u001B[0m\u001B[0m\n",
      "\u001B[0;32m/opt/homebrew/Caskroom/miniforge/base/lib/python3.9/site-packages/sklearn/model_selection/_search.py\u001B[0m in \u001B[0;36m_check_param_grid\u001B[0;34m(param_grid)\u001B[0m\n\u001B[1;32m    340\u001B[0m \u001B[0;34m\u001B[0m\u001B[0m\n\u001B[1;32m    341\u001B[0m             \u001B[0;32mif\u001B[0m \u001B[0mlen\u001B[0m\u001B[0;34m(\u001B[0m\u001B[0mv\u001B[0m\u001B[0;34m)\u001B[0m \u001B[0;34m==\u001B[0m \u001B[0;36m0\u001B[0m\u001B[0;34m:\u001B[0m\u001B[0;34m\u001B[0m\u001B[0;34m\u001B[0m\u001B[0m\n\u001B[0;32m--> 342\u001B[0;31m                 raise ValueError(\n\u001B[0m\u001B[1;32m    343\u001B[0m                     \u001B[0;34m\"Parameter values for parameter ({0}) need \"\u001B[0m\u001B[0;34m\u001B[0m\u001B[0;34m\u001B[0m\u001B[0m\n\u001B[1;32m    344\u001B[0m                     \u001B[0;34m\"to be a non-empty sequence.\"\u001B[0m\u001B[0;34m.\u001B[0m\u001B[0mformat\u001B[0m\u001B[0;34m(\u001B[0m\u001B[0mname\u001B[0m\u001B[0;34m)\u001B[0m\u001B[0;34m\u001B[0m\u001B[0;34m\u001B[0m\u001B[0m\n",
      "\u001B[0;31mValueError\u001B[0m: Parameter values for parameter (max_depth) need to be a non-empty sequence."
     ]
    }
   ],
   "source": [
    "dt = decsion.acc()"
   ],
   "metadata": {
    "collapsed": false,
    "pycharm": {
     "name": "#%%\n"
    }
   }
  },
  {
   "cell_type": "code",
   "execution_count": 94,
   "outputs": [
    {
     "data": {
      "text/plain": "0.6666666666666666"
     },
     "execution_count": 94,
     "metadata": {},
     "output_type": "execute_result"
    }
   ],
   "source": [
    "dt.score(decsion.X_test,decsion.y_test)"
   ],
   "metadata": {
    "collapsed": false,
    "pycharm": {
     "name": "#%%\n"
    }
   }
  },
  {
   "cell_type": "code",
   "execution_count": null,
   "outputs": [],
   "source": [],
   "metadata": {
    "collapsed": false,
    "pycharm": {
     "name": "#%%\n"
    }
   }
  }
 ],
 "metadata": {
  "kernelspec": {
   "display_name": "Python 3",
   "language": "python",
   "name": "python3"
  },
  "language_info": {
   "codemirror_mode": {
    "name": "ipython",
    "version": 2
   },
   "file_extension": ".py",
   "mimetype": "text/x-python",
   "name": "python",
   "nbconvert_exporter": "python",
   "pygments_lexer": "ipython2",
   "version": "2.7.6"
  }
 },
 "nbformat": 4,
 "nbformat_minor": 0
}